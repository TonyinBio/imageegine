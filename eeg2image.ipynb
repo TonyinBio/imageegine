{
 "cells": [
  {
   "cell_type": "code",
   "execution_count": 1,
   "metadata": {},
   "outputs": [],
   "source": [
    "import numpy as np\n",
    "import torch\n",
    "import torch.nn as nn\n",
    "import torch.nn.functional as F\n",
    "from tqdm import tqdm"
   ]
  },
  {
   "cell_type": "markdown",
   "metadata": {},
   "source": [
    "## Hyperparams"
   ]
  },
  {
   "cell_type": "code",
   "execution_count": 3,
   "metadata": {},
   "outputs": [
    {
     "name": "stdout",
     "output_type": "stream",
     "text": [
      "cpu\n"
     ]
    }
   ],
   "source": [
    "n_epochs = 100\n",
    "batch_size = 256\n",
    "n_features = 128\n",
    "projection_dim = 128\n",
    "weight_decay = 1e-4\n",
    "lr = 1e-3\n",
    "\n",
    "n_channels = 5\n",
    "seq_len = 200\n",
    "n_classes = 10\n",
    "\n",
    "vis_freq = 10\n",
    "\n",
    "device = \"cuda\" if torch.cuda.is_available() else \"cpu\"\n",
    "print(device)"
   ]
  },
  {
   "cell_type": "code",
   "execution_count": 2,
   "metadata": {},
   "outputs": [],
   "source": [
    "data_dir = \"./data/\"\n",
    "# O1 O2 T5 T6\n",
    "# bandpass 5-95 Hz"
   ]
  },
  {
   "cell_type": "markdown",
   "metadata": {},
   "source": [
    "## Load Data"
   ]
  },
  {
   "cell_type": "code",
   "execution_count": 5,
   "metadata": {},
   "outputs": [
    {
     "name": "stderr",
     "output_type": "stream",
     "text": [
      "/Users/sun/miniconda3/envs/cmput328/lib/python3.10/site-packages/tqdm/auto.py:21: TqdmWarning: IProgress not found. Please update jupyter and ipywidgets. See https://ipywidgets.readthedocs.io/en/stable/user_install.html\n",
      "  from .autonotebook import tqdm as notebook_tqdm\n"
     ]
    },
    {
     "ename": "FileNotFoundError",
     "evalue": "Directory ./data/dataset_train_preprocessed not found",
     "output_type": "error",
     "traceback": [
      "\u001b[0;31m---------------------------------------------------------------------------\u001b[0m",
      "\u001b[0;31mFileNotFoundError\u001b[0m                         Traceback (most recent call last)",
      "\u001b[1;32m/Users/sun/code/nathacks2023/eeg2image.ipynb Cell 6\u001b[0m line \u001b[0;36m3\n\u001b[1;32m      <a href='vscode-notebook-cell:/Users/sun/code/nathacks2023/eeg2image.ipynb#W5sZmlsZQ%3D%3D?line=0'>1</a>\u001b[0m \u001b[39mimport\u001b[39;00m \u001b[39mdatasets\u001b[39;00m\n\u001b[0;32m----> <a href='vscode-notebook-cell:/Users/sun/code/nathacks2023/eeg2image.ipynb#W5sZmlsZQ%3D%3D?line=2'>3</a>\u001b[0m d \u001b[39m=\u001b[39m datasets\u001b[39m.\u001b[39;49mload_from_disk(data_dir \u001b[39m+\u001b[39;49m \u001b[39m\"\u001b[39;49m\u001b[39mdataset_train_preprocessed\u001b[39;49m\u001b[39m\"\u001b[39;49m)\n",
      "File \u001b[0;32m~/miniconda3/envs/cmput328/lib/python3.10/site-packages/datasets/load.py:2233\u001b[0m, in \u001b[0;36mload_from_disk\u001b[0;34m(dataset_path, fs, keep_in_memory, storage_options)\u001b[0m\n\u001b[1;32m   2231\u001b[0m fs, _, _ \u001b[39m=\u001b[39m fsspec\u001b[39m.\u001b[39mget_fs_token_paths(dataset_path, storage_options\u001b[39m=\u001b[39mstorage_options)\n\u001b[1;32m   2232\u001b[0m \u001b[39mif\u001b[39;00m \u001b[39mnot\u001b[39;00m fs\u001b[39m.\u001b[39mexists(dataset_path):\n\u001b[0;32m-> 2233\u001b[0m     \u001b[39mraise\u001b[39;00m \u001b[39mFileNotFoundError\u001b[39;00m(\u001b[39mf\u001b[39m\u001b[39m\"\u001b[39m\u001b[39mDirectory \u001b[39m\u001b[39m{\u001b[39;00mdataset_path\u001b[39m}\u001b[39;00m\u001b[39m not found\u001b[39m\u001b[39m\"\u001b[39m)\n\u001b[1;32m   2234\u001b[0m \u001b[39mif\u001b[39;00m fs\u001b[39m.\u001b[39misfile(posixpath\u001b[39m.\u001b[39mjoin(dataset_path, config\u001b[39m.\u001b[39mDATASET_INFO_FILENAME)) \u001b[39mand\u001b[39;00m fs\u001b[39m.\u001b[39misfile(\n\u001b[1;32m   2235\u001b[0m     posixpath\u001b[39m.\u001b[39mjoin(dataset_path, config\u001b[39m.\u001b[39mDATASET_STATE_JSON_FILENAME)\n\u001b[1;32m   2236\u001b[0m ):\n\u001b[1;32m   2237\u001b[0m     \u001b[39mreturn\u001b[39;00m Dataset\u001b[39m.\u001b[39mload_from_disk(dataset_path, keep_in_memory\u001b[39m=\u001b[39mkeep_in_memory, storage_options\u001b[39m=\u001b[39mstorage_options)\n",
      "\u001b[0;31mFileNotFoundError\u001b[0m: Directory ./data/dataset_train_preprocessed not found"
     ]
    }
   ],
   "source": [
    "import datasets\n",
    "\n",
    "d = datasets.load_from_disk(data_dir + \"dataset_train_preprocessed\")"
   ]
  },
  {
   "cell_type": "code",
   "execution_count": null,
   "metadata": {},
   "outputs": [],
   "source": [
    "train_eegs = torch.tensor(d[\"pixel_values\"])\n",
    "train_labels = torch.tensor(d[\"label\"])"
   ]
  },
  {
   "cell_type": "code",
   "execution_count": null,
   "metadata": {},
   "outputs": [
    {
     "name": "stdout",
     "output_type": "stream",
     "text": [
      "torch.Size([10436, 256, 5]) torch.float32\n",
      "torch.Size([10436]) torch.int64\n"
     ]
    }
   ],
   "source": [
    "print(train_eegs.shape, train_eegs.dtype)\n",
    "print(train_labels.shape, train_labels.dtype)"
   ]
  },
  {
   "cell_type": "code",
   "execution_count": null,
   "metadata": {},
   "outputs": [],
   "source": [
    "from torch.utils.data import Dataset\n",
    "\n",
    "class EEGDataset(Dataset):\n",
    "    def __init__(self, eegs, labels, transform=None):\n",
    "        self.eegs = eegs\n",
    "        self.labels = labels\n",
    "        self.transform = transform\n",
    "\n",
    "    def __getitem__(self, idx):\n",
    "        eeg = self.eegs[idx]\n",
    "        label = self.labels[idx]\n",
    "\n",
    "        if self.transform:\n",
    "            eeg = self.transform(eeg)\n",
    "\n",
    "        return eeg, label\n",
    "\n",
    "    def __len__(self):\n",
    "        return len(self.eegs)\n",
    "\n",
    "train_data = EEGDataset(train_eegs, train_labels)"
   ]
  },
  {
   "cell_type": "code",
   "execution_count": null,
   "metadata": {},
   "outputs": [
    {
     "name": "stdout",
     "output_type": "stream",
     "text": [
      "torch.Size([256, 5]) tensor(6)\n"
     ]
    }
   ],
   "source": [
    "eeg, label = train_data[0]\n",
    "print(eeg.shape, label)"
   ]
  },
  {
   "cell_type": "markdown",
   "metadata": {},
   "source": [
    "## Define Network"
   ]
  },
  {
   "cell_type": "code",
   "execution_count": 32,
   "metadata": {},
   "outputs": [],
   "source": [
    "import torch\n",
    "from typing import Any, Optional, Tuple, Union\n",
    "import torch.nn as nn\n",
    "import torch.nn.functional as F\n",
    "\n",
    "class EEGFeatNet(nn.Module):\n",
    "    def __init__(self, n_channels, n_features, projection_dim, num_layers=1):\n",
    "        super(EEGFeatNet, self).__init__()\n",
    "        self.hidden_size = n_features\n",
    "        self.num_layers = num_layers\n",
    "\n",
    "        self.encoder = nn.LSTM(input_size=n_channels, hidden_size=self.hidden_size, num_layers=self.num_layers, batch_first=True)\n",
    "        self.fc = nn.Linear(in_features=self.hidden_size, out_features=projection_dim, bias=False)\n",
    "\n",
    "\n",
    "    def forward(\n",
    "        self,\n",
    "        pixel_values: Optional[torch.FloatTensor] = None,\n",
    "        output_attentions: Optional[bool] = None,\n",
    "        output_hidden_states: Optional[bool] = None,\n",
    "        return_dict: Optional[bool] = None,\n",
    "    ):\n",
    "\n",
    "        device = next(self.parameters()).device\n",
    "        x = pixel_values\n",
    "        h_n = torch.zeros(self.num_layers, x.size(0), self.hidden_size).to(device)\n",
    "        c_n = torch.zeros(self.num_layers, x.size(0), self.hidden_size).to(device)\n",
    "\n",
    "        _, (h_n, c_n) = self.encoder(x, (h_n, c_n))\n",
    "        x = h_n[-1]\n",
    "\n",
    "        x = F.normalize(x, dim=-1)\n",
    "\n",
    "        return x\n"
   ]
  },
  {
   "cell_type": "code",
   "execution_count": 33,
   "metadata": {},
   "outputs": [
    {
     "name": "stdout",
     "output_type": "stream",
     "text": [
      "torch.Size([256, 128])\n"
     ]
    }
   ],
   "source": [
    "device = \"mps\"\n",
    "eeg = torch.randn((batch_size, seq_len, n_channels)).to(device)\n",
    "model = EEGFeatNet(n_channels=n_channels, n_features=n_features, projection_dim=projection_dim).to(device)\n",
    "\n",
    "proj = model(eeg)\n",
    "print(proj.shape)"
   ]
  },
  {
   "cell_type": "code",
   "execution_count": 10,
   "metadata": {},
   "outputs": [
    {
     "data": {
      "text/plain": [
       "'All Parameters: 85504'"
      ]
     },
     "execution_count": 10,
     "metadata": {},
     "output_type": "execute_result"
    }
   ],
   "source": [
    "f\"All Parameters: {sum(p.numel() for p in model.parameters())}\""
   ]
  },
  {
   "cell_type": "markdown",
   "metadata": {},
   "source": [
    "## Dataloaders"
   ]
  },
  {
   "cell_type": "code",
   "execution_count": 5,
   "metadata": {},
   "outputs": [
    {
     "ename": "NameError",
     "evalue": "name 'train_data' is not defined",
     "output_type": "error",
     "traceback": [
      "\u001b[0;31m---------------------------------------------------------------------------\u001b[0m",
      "\u001b[0;31mNameError\u001b[0m                                 Traceback (most recent call last)",
      "\u001b[1;32m/Users/sun/code/nathacks2023/eeg2image.ipynb Cell 15\u001b[0m line \u001b[0;36m3\n\u001b[1;32m      <a href='vscode-notebook-cell:/Users/sun/code/nathacks2023/eeg2image.ipynb#X20sZmlsZQ%3D%3D?line=0'>1</a>\u001b[0m \u001b[39mfrom\u001b[39;00m \u001b[39mtorch\u001b[39;00m\u001b[39m.\u001b[39;00m\u001b[39mutils\u001b[39;00m\u001b[39m.\u001b[39;00m\u001b[39mdata\u001b[39;00m \u001b[39mimport\u001b[39;00m DataLoader\n\u001b[0;32m----> <a href='vscode-notebook-cell:/Users/sun/code/nathacks2023/eeg2image.ipynb#X20sZmlsZQ%3D%3D?line=2'>3</a>\u001b[0m train_loader \u001b[39m=\u001b[39m DataLoader(train_data, batch_size\u001b[39m=\u001b[39mbatch_size, shuffle\u001b[39m=\u001b[39m\u001b[39mTrue\u001b[39;00m)\n",
      "\u001b[0;31mNameError\u001b[0m: name 'train_data' is not defined"
     ]
    }
   ],
   "source": [
    "from torch.utils.data import DataLoader\n",
    "\n",
    "train_loader = DataLoader(train_data, batch_size=batch_size, shuffle=True)"
   ]
  },
  {
   "cell_type": "code",
   "execution_count": null,
   "metadata": {},
   "outputs": [
    {
     "name": "stdout",
     "output_type": "stream",
     "text": [
      "torch.Size([256, 128])\n",
      "torch.Size([256, 128])\n",
      "torch.Size([256, 128])\n",
      "torch.Size([256, 128])\n",
      "torch.Size([256, 128])\n",
      "torch.Size([256, 128])\n",
      "torch.Size([256, 128])\n",
      "torch.Size([256, 128])\n",
      "torch.Size([256, 128])\n",
      "torch.Size([256, 128])\n",
      "torch.Size([256, 128])\n",
      "torch.Size([256, 128])\n",
      "torch.Size([256, 128])\n",
      "torch.Size([256, 128])\n",
      "torch.Size([256, 128])\n",
      "torch.Size([256, 128])\n",
      "torch.Size([256, 128])\n",
      "torch.Size([256, 128])\n",
      "torch.Size([256, 128])\n",
      "torch.Size([256, 128])\n",
      "torch.Size([256, 128])\n",
      "torch.Size([256, 128])\n",
      "torch.Size([256, 128])\n",
      "torch.Size([256, 128])\n",
      "torch.Size([256, 128])\n",
      "torch.Size([256, 128])\n",
      "torch.Size([256, 128])\n",
      "torch.Size([256, 128])\n",
      "torch.Size([256, 128])\n",
      "torch.Size([256, 128])\n",
      "torch.Size([256, 128])\n",
      "torch.Size([256, 128])\n",
      "torch.Size([256, 128])\n",
      "torch.Size([256, 128])\n",
      "torch.Size([256, 128])\n",
      "torch.Size([256, 128])\n",
      "torch.Size([256, 128])\n",
      "torch.Size([256, 128])\n",
      "torch.Size([256, 128])\n",
      "torch.Size([256, 128])\n",
      "torch.Size([196, 128])\n"
     ]
    }
   ],
   "source": [
    "for eeg, label in train_loader:\n",
    "    eeg = eeg.to(device)\n",
    "    proj = model(eeg)\n",
    "    print(proj.shape)"
   ]
  },
  {
   "cell_type": "markdown",
   "metadata": {},
   "source": [
    "## Train Loop"
   ]
  },
  {
   "cell_type": "code",
   "execution_count": null,
   "metadata": {},
   "outputs": [],
   "source": [
    "from visualization import K_means\n",
    "\n",
    "def train(epoch, model, optimizer, loss_fn, miner, train_dataloader):\n",
    "    tq = tqdm(train_dataloader)\n",
    "    for batch_idx, (eeg, label) in enumerate(tq, start=1):\n",
    "        eeg    = eeg.to(device)\n",
    "        label = label.to(device)\n",
    "\n",
    "        optimizer.zero_grad()\n",
    "\n",
    "        x_proj = model(eeg)\n",
    "\n",
    "        hard_pairs = miner(x_proj, labels)\n",
    "        loss = loss_fn(x_proj, labels, hard_pairs)\n",
    "        \n",
    "        loss.backward()\n",
    "        optimizer.step()\n",
    "\n",
    "        running_loss = running_loss + [loss.detach().cpu().numpy()]\n",
    "                \n",
    "        tq.set_description('Train:[{}, {:0.3f}]'.format(epoch, loss.item()))\n",
    "\n",
    "    if (epoch % vis_freq) == 0:\n",
    "        for batch_idx, (eeg, labels) in enumerate(tqdm(train_dataloader)):\n",
    "            eeg, labels = eeg.to(device), labels.to(device)\n",
    "            with torch.no_grad():\n",
    "                x_proj = model(eeg)\n",
    "            \n",
    "            eeg_featvec_proj = np.concatenate((eeg_featvec_proj, x_proj.cpu().detach().numpy()), axis=0) if eeg_featvec_proj.size else x_proj.cpu().detach().numpy()\n",
    "            \n",
    "            labels_array     = np.concatenate((labels_array, labels.cpu().detach().numpy()), axis=0) if labels_array.size else labels.cpu().detach().numpy()\n",
    "\n",
    "        ### compute k-means score and Umap score on the text and image embeddings\n",
    "        k_means = K_means(n_clusters=n_classes)\n",
    "        clustering_acc_proj = k_means.transform(eeg_featvec_proj, labels_array)\n",
    "        print(\"[Epoch: {}, Train KMeans score Proj: {}]\".format(epoch, clustering_acc_proj))\n",
    "\n",
    "    return running_loss"
   ]
  },
  {
   "cell_type": "code",
   "execution_count": null,
   "metadata": {},
   "outputs": [],
   "source": [
    "from pytorch_metric_learning import miners, losses, distances\n",
    "\n",
    "model = EEGFeatNet(n_channels=n_channels, n_features=n_features, projection_dim=projection_dim).to(device)\n",
    "optimizer = torch.optim.AdamW(list(model.parameters()), lr=lr, weight_decay=weight_decay)\n",
    "\n",
    "# miner = miners.MultiSimilarityMiner()\n",
    "# loss_fn = losses.TripletMarginLoss()\n",
    "margin = 0.2\n",
    "distance = distances.LpDistance()\n",
    "loss_fn = losses.TripletMarginLoss(margin, distance=distance)\n",
    "miner = miners.TripletMarginMiner(margin, \"semihard\", distance=distance)"
   ]
  },
  {
   "cell_type": "code",
   "execution_count": null,
   "metadata": {},
   "outputs": [],
   "source": [
    "if device == \"cuda\":\n",
    "    torch.cuda.empty_cache()"
   ]
  },
  {
   "cell_type": "code",
   "execution_count": null,
   "metadata": {},
   "outputs": [
    {
     "name": "stderr",
     "output_type": "stream",
     "text": [
      "Train:[0, 0.153]: 100%|██████████| 41/41 [00:01<00:00, 38.07it/s]\n",
      "100%|██████████| 41/41 [00:00<00:00, 114.46it/s]\n"
     ]
    },
    {
     "name": "stdout",
     "output_type": "stream",
     "text": [
      "[Epoch: 0, Train KMeans score Proj: 0.112878497508624]\n"
     ]
    },
    {
     "name": "stderr",
     "output_type": "stream",
     "text": [
      "Train:[1, 0.151]: 100%|██████████| 41/41 [00:01<00:00, 40.00it/s]\n",
      "Train:[2, 0.150]: 100%|██████████| 41/41 [00:00<00:00, 44.15it/s]\n",
      "Train:[3, 0.150]: 100%|██████████| 41/41 [00:00<00:00, 44.12it/s]\n",
      "Train:[4, 0.150]: 100%|██████████| 41/41 [00:00<00:00, 43.95it/s]\n",
      "Train:[5, 0.170]: 100%|██████████| 41/41 [00:00<00:00, 45.32it/s]\n",
      "Train:[6, 0.174]: 100%|██████████| 41/41 [00:00<00:00, 45.56it/s]\n",
      "Train:[7, 0.153]: 100%|██████████| 41/41 [00:00<00:00, 44.75it/s]\n",
      "Train:[8, 0.155]: 100%|██████████| 41/41 [00:00<00:00, 44.80it/s]\n",
      "Train:[9, 0.154]: 100%|██████████| 41/41 [00:00<00:00, 44.23it/s]\n",
      "Train:[10, 0.161]: 100%|██████████| 41/41 [00:00<00:00, 44.87it/s]\n",
      "100%|██████████| 41/41 [00:00<00:00, 113.60it/s]\n"
     ]
    },
    {
     "name": "stdout",
     "output_type": "stream",
     "text": [
      "[Epoch: 10, Train KMeans score Proj: 0.11144116519739364]\n"
     ]
    },
    {
     "name": "stderr",
     "output_type": "stream",
     "text": [
      "Train:[11, 0.163]: 100%|██████████| 41/41 [00:00<00:00, 44.18it/s]\n",
      "Train:[12, 0.156]: 100%|██████████| 41/41 [00:00<00:00, 44.49it/s]\n",
      "Train:[13, 0.148]: 100%|██████████| 41/41 [00:00<00:00, 44.53it/s]\n",
      "Train:[14, 0.149]: 100%|██████████| 41/41 [00:00<00:00, 44.17it/s]\n",
      "Train:[15, 0.148]: 100%|██████████| 41/41 [00:00<00:00, 43.94it/s]\n",
      "Train:[16, 0.151]: 100%|██████████| 41/41 [00:00<00:00, 43.79it/s]\n",
      "Train:[17, 0.147]: 100%|██████████| 41/41 [00:00<00:00, 44.07it/s]\n",
      "Train:[18, 0.149]: 100%|██████████| 41/41 [00:00<00:00, 44.20it/s]\n",
      "Train:[19, 0.157]: 100%|██████████| 41/41 [00:00<00:00, 44.08it/s]\n",
      "Train:[20, 0.147]: 100%|██████████| 41/41 [00:00<00:00, 43.69it/s]\n",
      "100%|██████████| 41/41 [00:00<00:00, 117.05it/s]\n"
     ]
    },
    {
     "name": "stdout",
     "output_type": "stream",
     "text": [
      "[Epoch: 20, Train KMeans score Proj: 0.11057876581065543]\n"
     ]
    },
    {
     "name": "stderr",
     "output_type": "stream",
     "text": [
      "Train:[21, 0.146]: 100%|██████████| 41/41 [00:00<00:00, 42.92it/s]\n",
      "Train:[22, 0.148]: 100%|██████████| 41/41 [00:01<00:00, 40.17it/s]\n",
      "Train:[23, 0.159]: 100%|██████████| 41/41 [00:00<00:00, 44.28it/s]\n",
      "Train:[24, 0.159]: 100%|██████████| 41/41 [00:00<00:00, 44.82it/s]\n",
      "Train:[25, 0.151]: 100%|██████████| 41/41 [00:00<00:00, 44.05it/s]\n",
      "Train:[26, 0.152]: 100%|██████████| 41/41 [00:00<00:00, 45.07it/s]\n",
      "Train:[27, 0.172]: 100%|██████████| 41/41 [00:00<00:00, 44.64it/s]\n",
      "Train:[28, 0.149]: 100%|██████████| 41/41 [00:00<00:00, 44.57it/s]\n",
      "Train:[29, 0.145]: 100%|██████████| 41/41 [00:00<00:00, 43.14it/s]\n",
      "Train:[30, 0.163]: 100%|██████████| 41/41 [00:00<00:00, 44.95it/s]\n",
      "100%|██████████| 41/41 [00:00<00:00, 114.58it/s]\n"
     ]
    },
    {
     "name": "stdout",
     "output_type": "stream",
     "text": [
      "[Epoch: 30, Train KMeans score Proj: 0.11115369873514756]\n"
     ]
    },
    {
     "name": "stderr",
     "output_type": "stream",
     "text": [
      "Train:[31, 0.167]: 100%|██████████| 41/41 [00:00<00:00, 44.51it/s]\n",
      "Train:[32, 0.177]: 100%|██████████| 41/41 [00:00<00:00, 45.25it/s]\n",
      "Train:[33, 0.152]: 100%|██████████| 41/41 [00:00<00:00, 44.72it/s]\n",
      "Train:[34, 0.148]: 100%|██████████| 41/41 [00:00<00:00, 45.16it/s]\n",
      "Train:[35, 0.150]: 100%|██████████| 41/41 [00:00<00:00, 44.90it/s]\n",
      "Train:[36, 0.145]: 100%|██████████| 41/41 [00:00<00:00, 45.15it/s]\n",
      "Train:[37, 0.150]: 100%|██████████| 41/41 [00:00<00:00, 44.05it/s]\n",
      "Train:[38, 0.160]: 100%|██████████| 41/41 [00:00<00:00, 45.05it/s]\n",
      "Train:[39, 0.179]: 100%|██████████| 41/41 [00:00<00:00, 45.10it/s]\n",
      "Train:[40, 0.182]: 100%|██████████| 41/41 [00:00<00:00, 45.21it/s]\n",
      "100%|██████████| 41/41 [00:00<00:00, 119.88it/s]\n"
     ]
    },
    {
     "name": "stdout",
     "output_type": "stream",
     "text": [
      "[Epoch: 40, Train KMeans score Proj: 0.10415868148715983]\n"
     ]
    },
    {
     "name": "stderr",
     "output_type": "stream",
     "text": [
      "Train:[41, 0.085]: 100%|██████████| 41/41 [00:00<00:00, 44.90it/s]\n",
      "Train:[42, 0.028]: 100%|██████████| 41/41 [00:00<00:00, 48.27it/s]\n",
      "Train:[43, 0.001]: 100%|██████████| 41/41 [00:00<00:00, 44.81it/s]\n",
      "Train:[44, 0.001]: 100%|██████████| 41/41 [00:00<00:00, 48.83it/s]\n",
      "Train:[45, 0.001]: 100%|██████████| 41/41 [00:00<00:00, 50.24it/s]\n",
      "Train:[46, 0.001]: 100%|██████████| 41/41 [00:00<00:00, 49.01it/s]\n",
      "Train:[47, 0.001]: 100%|██████████| 41/41 [00:00<00:00, 50.39it/s]\n",
      "Train:[48, 0.001]: 100%|██████████| 41/41 [00:00<00:00, 51.06it/s]\n",
      "Train:[49, 0.001]: 100%|██████████| 41/41 [00:00<00:00, 50.27it/s]\n",
      "Train:[50, 0.001]: 100%|██████████| 41/41 [00:00<00:00, 50.30it/s]\n",
      "100%|██████████| 41/41 [00:00<00:00, 119.86it/s]\n",
      "c:\\Users\\ruoto\\miniconda3\\envs\\cmput328\\lib\\site-packages\\sklearn\\base.py:1152: ConvergenceWarning: Number of distinct clusters (8) found smaller than n_clusters (10). Possibly due to duplicate points in X.\n",
      "  return fit_method(estimator, *args, **kwargs)\n"
     ]
    },
    {
     "name": "stdout",
     "output_type": "stream",
     "text": [
      "[Epoch: 50, Train KMeans score Proj: 0.10367957071674971]\n"
     ]
    },
    {
     "name": "stderr",
     "output_type": "stream",
     "text": [
      "Train:[51, 0.001]: 100%|██████████| 41/41 [00:00<00:00, 49.38it/s]\n",
      "Train:[52, 0.001]: 100%|██████████| 41/41 [00:00<00:00, 49.72it/s]\n",
      "Train:[53, 0.001]: 100%|██████████| 41/41 [00:00<00:00, 49.01it/s]\n",
      "Train:[54, 0.001]: 100%|██████████| 41/41 [00:00<00:00, 50.24it/s]\n",
      "Train:[55, 0.001]: 100%|██████████| 41/41 [00:00<00:00, 49.26it/s]\n",
      "Train:[56, 0.001]: 100%|██████████| 41/41 [00:00<00:00, 49.10it/s]\n",
      "Train:[57, 0.001]: 100%|██████████| 41/41 [00:00<00:00, 49.58it/s]\n",
      "Train:[58, 0.001]: 100%|██████████| 41/41 [00:00<00:00, 48.96it/s]\n",
      "Train:[59, 0.001]: 100%|██████████| 41/41 [00:00<00:00, 49.37it/s]\n",
      "Train:[60, 0.001]: 100%|██████████| 41/41 [00:00<00:00, 51.01it/s]\n",
      "100%|██████████| 41/41 [00:00<00:00, 118.33it/s]\n",
      "c:\\Users\\ruoto\\miniconda3\\envs\\cmput328\\lib\\site-packages\\sklearn\\base.py:1152: ConvergenceWarning: Number of distinct clusters (8) found smaller than n_clusters (10). Possibly due to duplicate points in X.\n",
      "  return fit_method(estimator, *args, **kwargs)\n"
     ]
    },
    {
     "name": "stdout",
     "output_type": "stream",
     "text": [
      "[Epoch: 60, Train KMeans score Proj: 0.10367957071674971]\n"
     ]
    },
    {
     "name": "stderr",
     "output_type": "stream",
     "text": [
      "Train:[61, 0.001]: 100%|██████████| 41/41 [00:00<00:00, 48.87it/s]\n",
      "Train:[62, 0.001]: 100%|██████████| 41/41 [00:00<00:00, 49.69it/s]\n",
      "Train:[63, 0.001]: 100%|██████████| 41/41 [00:00<00:00, 48.94it/s]\n",
      "Train:[64, 0.001]: 100%|██████████| 41/41 [00:00<00:00, 45.46it/s]\n",
      "Train:[65, 0.001]: 100%|██████████| 41/41 [00:00<00:00, 49.50it/s]\n",
      "Train:[66, 0.001]: 100%|██████████| 41/41 [00:00<00:00, 48.88it/s]\n",
      "Train:[67, 0.001]: 100%|██████████| 41/41 [00:00<00:00, 48.99it/s]\n",
      "Train:[68, 0.001]: 100%|██████████| 41/41 [00:00<00:00, 49.42it/s]\n",
      "Train:[69, 0.001]: 100%|██████████| 41/41 [00:00<00:00, 49.13it/s]\n",
      "Train:[70, 0.001]: 100%|██████████| 41/41 [00:00<00:00, 48.46it/s]\n",
      "100%|██████████| 41/41 [00:00<00:00, 119.99it/s]\n",
      "c:\\Users\\ruoto\\miniconda3\\envs\\cmput328\\lib\\site-packages\\sklearn\\base.py:1152: ConvergenceWarning: Number of distinct clusters (8) found smaller than n_clusters (10). Possibly due to duplicate points in X.\n",
      "  return fit_method(estimator, *args, **kwargs)\n"
     ]
    },
    {
     "name": "stdout",
     "output_type": "stream",
     "text": [
      "[Epoch: 70, Train KMeans score Proj: 0.10367957071674971]\n"
     ]
    },
    {
     "name": "stderr",
     "output_type": "stream",
     "text": [
      "Train:[71, 0.001]: 100%|██████████| 41/41 [00:00<00:00, 49.44it/s]\n",
      "Train:[72, 0.001]: 100%|██████████| 41/41 [00:00<00:00, 50.43it/s]\n",
      "Train:[73, 0.001]: 100%|██████████| 41/41 [00:00<00:00, 50.35it/s]\n",
      "Train:[74, 0.001]: 100%|██████████| 41/41 [00:00<00:00, 48.74it/s]\n",
      "Train:[75, 0.001]: 100%|██████████| 41/41 [00:00<00:00, 48.79it/s]\n",
      "Train:[76, 0.001]: 100%|██████████| 41/41 [00:00<00:00, 49.45it/s]\n",
      "Train:[77, 0.001]: 100%|██████████| 41/41 [00:00<00:00, 49.92it/s]\n",
      "Train:[78, 0.001]: 100%|██████████| 41/41 [00:00<00:00, 49.66it/s]\n",
      "Train:[79, 0.001]: 100%|██████████| 41/41 [00:00<00:00, 48.54it/s]\n",
      "Train:[80, 0.001]: 100%|██████████| 41/41 [00:00<00:00, 49.49it/s]\n",
      "100%|██████████| 41/41 [00:00<00:00, 117.74it/s]\n",
      "c:\\Users\\ruoto\\miniconda3\\envs\\cmput328\\lib\\site-packages\\sklearn\\base.py:1152: ConvergenceWarning: Number of distinct clusters (8) found smaller than n_clusters (10). Possibly due to duplicate points in X.\n",
      "  return fit_method(estimator, *args, **kwargs)\n"
     ]
    },
    {
     "name": "stdout",
     "output_type": "stream",
     "text": [
      "[Epoch: 80, Train KMeans score Proj: 0.10367957071674971]\n"
     ]
    },
    {
     "name": "stderr",
     "output_type": "stream",
     "text": [
      "Train:[81, 0.001]: 100%|██████████| 41/41 [00:00<00:00, 49.24it/s]\n",
      "Train:[82, 0.001]: 100%|██████████| 41/41 [00:00<00:00, 50.05it/s]\n",
      "Train:[83, 0.001]: 100%|██████████| 41/41 [00:00<00:00, 50.37it/s]\n",
      "Train:[84, 0.001]: 100%|██████████| 41/41 [00:00<00:00, 48.98it/s]\n",
      "Train:[85, 0.001]: 100%|██████████| 41/41 [00:00<00:00, 45.11it/s]\n",
      "Train:[86, 0.001]: 100%|██████████| 41/41 [00:00<00:00, 49.24it/s]\n",
      "Train:[87, 0.001]: 100%|██████████| 41/41 [00:00<00:00, 49.56it/s]\n",
      "Train:[88, 0.001]: 100%|██████████| 41/41 [00:00<00:00, 49.17it/s]\n",
      "Train:[89, 0.001]: 100%|██████████| 41/41 [00:00<00:00, 48.90it/s]\n",
      "Train:[90, 0.001]: 100%|██████████| 41/41 [00:00<00:00, 50.20it/s]\n",
      "100%|██████████| 41/41 [00:00<00:00, 115.83it/s]\n",
      "c:\\Users\\ruoto\\miniconda3\\envs\\cmput328\\lib\\site-packages\\sklearn\\base.py:1152: ConvergenceWarning: Number of distinct clusters (8) found smaller than n_clusters (10). Possibly due to duplicate points in X.\n",
      "  return fit_method(estimator, *args, **kwargs)\n"
     ]
    },
    {
     "name": "stdout",
     "output_type": "stream",
     "text": [
      "[Epoch: 90, Train KMeans score Proj: 0.10367957071674971]\n"
     ]
    },
    {
     "name": "stderr",
     "output_type": "stream",
     "text": [
      "Train:[91, 0.003]: 100%|██████████| 41/41 [00:00<00:00, 49.02it/s]\n",
      "Train:[92, 0.001]: 100%|██████████| 41/41 [00:00<00:00, 49.40it/s]\n",
      "Train:[93, 0.001]: 100%|██████████| 41/41 [00:00<00:00, 49.58it/s]\n",
      "Train:[94, 0.003]: 100%|██████████| 41/41 [00:00<00:00, 49.69it/s]\n",
      "Train:[95, 0.001]: 100%|██████████| 41/41 [00:00<00:00, 49.16it/s]\n",
      "Train:[96, 0.002]: 100%|██████████| 41/41 [00:00<00:00, 49.03it/s]\n",
      "Train:[97, 0.002]: 100%|██████████| 41/41 [00:00<00:00, 48.10it/s]\n",
      "Train:[98, 0.002]: 100%|██████████| 41/41 [00:00<00:00, 50.19it/s]\n",
      "Train:[99, 0.001]: 100%|██████████| 41/41 [00:00<00:00, 49.92it/s]\n"
     ]
    }
   ],
   "source": [
    "for epoch in range(n_epochs):\n",
    "    running_train_loss = train(epoch, model, optimizer, loss_fn, miner, train_loader)"
   ]
  },
  {
   "cell_type": "code",
   "execution_count": null,
   "metadata": {},
   "outputs": [],
   "source": []
  }
 ],
 "metadata": {
  "kernelspec": {
   "display_name": "cmput328",
   "language": "python",
   "name": "python3"
  },
  "language_info": {
   "codemirror_mode": {
    "name": "ipython",
    "version": 3
   },
   "file_extension": ".py",
   "mimetype": "text/x-python",
   "name": "python",
   "nbconvert_exporter": "python",
   "pygments_lexer": "ipython3",
   "version": "3.10.13"
  }
 },
 "nbformat": 4,
 "nbformat_minor": 2
}
