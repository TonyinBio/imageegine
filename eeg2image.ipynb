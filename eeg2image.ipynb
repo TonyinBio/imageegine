{
 "cells": [
  {
   "cell_type": "code",
   "execution_count": 31,
   "metadata": {},
   "outputs": [],
   "source": [
    "import numpy as np\n",
    "import torch\n",
    "import torch.nn as nn\n",
    "import torch.nn.functional as F\n",
    "from tqdm import tqdm"
   ]
  },
  {
   "cell_type": "markdown",
   "metadata": {},
   "source": [
    "## Hyperparams"
   ]
  },
  {
   "cell_type": "code",
   "execution_count": 32,
   "metadata": {},
   "outputs": [
    {
     "name": "stdout",
     "output_type": "stream",
     "text": [
      "cuda\n"
     ]
    }
   ],
   "source": [
    "n_epochs = 1\n",
    "batch_size = 256\n",
    "\n",
    "n_features = 128\n",
    "projection_dim = 128\n",
    "n_layers = 4\n",
    "\n",
    "weight_decay = 1e-4\n",
    "max_lr = 0.01\n",
    "lr = 0.001\n",
    "\n",
    "n_channels = 4\n",
    "seq_len = 440\n",
    "n_classes = 10\n",
    "sampling_rate = 220\n",
    "\n",
    "show_acc_freq = 1\n",
    "\n",
    "device = \"cuda\" if torch.cuda.is_available() else \"cpu\"\n",
    "device = \"mps\" if torch.backends.mps.is_available() else device\n",
    "print(device)"
   ]
  },
  {
   "cell_type": "code",
   "execution_count": 33,
   "metadata": {},
   "outputs": [],
   "source": [
    "data_dir = \"./data/\"\n",
    "# O1 O2 T5 T6\n",
    "# bandpass 5-95 Hz"
   ]
  },
  {
   "cell_type": "code",
   "execution_count": 34,
   "metadata": {},
   "outputs": [
    {
     "name": "stdout",
     "output_type": "stream",
     "text": [
      "{'eeg_channels': [1, 2, 3, 4],\n",
      " 'eeg_names': 'TP9,Fp1,Fp2,TP10',\n",
      " 'marker_channel': 6,\n",
      " 'name': 'Muse2016',\n",
      " 'num_rows': 7,\n",
      " 'package_num_channel': 0,\n",
      " 'sampling_rate': 256,\n",
      " 'timestamp_channel': 5}\n"
     ]
    }
   ],
   "source": [
    "from brainflow import BoardIds, BoardShim\n",
    "from pprint import pprint\n",
    "pprint(BoardShim.get_board_descr(BoardIds.MUSE_2016_BOARD))"
   ]
  },
  {
   "cell_type": "markdown",
   "metadata": {},
   "source": [
    "## Load Data"
   ]
  },
  {
   "cell_type": "code",
   "execution_count": 35,
   "metadata": {},
   "outputs": [],
   "source": [
    "# import datasets\n",
    "\n",
    "# d_train = datasets.load_from_disk(data_dir + \"eeg_mnist_train\").filter(lambda row: row[\"label\"] != -1)\n",
    "# d_test = datasets.load_from_disk(data_dir + \"eeg_mnist_test\").filter(lambda row: row[\"label\"] != -1)\n",
    "\n",
    "# train_eegs = torch.FloatTensor(d_train[\"eeg\"])\n",
    "# train_labels = torch.LongTensor(d_train[\"label\"])\n",
    "\n",
    "# test_eegs = torch.FloatTensor(d_test[\"eeg\"])\n",
    "# test_labels = torch.LongTensor(d_test[\"label\"])\n",
    "\n",
    "# torch.save(train_eegs, data_dir + \"train_eegs.pt\")\n",
    "# torch.save(train_labels, data_dir + \"train_labels.pt\")\n",
    "# torch.save(test_eegs, data_dir + \"test_eegs.pt\")\n",
    "# torch.save(test_labels, data_dir + \"test_labels.pt\")"
   ]
  },
  {
   "cell_type": "code",
   "execution_count": 36,
   "metadata": {},
   "outputs": [],
   "source": [
    "train_eegs = torch.load(data_dir + \"train_eegs.pt\")\n",
    "train_labels = torch.load(data_dir + \"train_labels.pt\")\n",
    "test_eegs = torch.load(data_dir + \"test_eegs.pt\")\n",
    "test_labels = torch.load(data_dir + \"test_labels.pt\")"
   ]
  },
  {
   "cell_type": "code",
   "execution_count": 37,
   "metadata": {},
   "outputs": [
    {
     "name": "stdout",
     "output_type": "stream",
     "text": [
      "torch.Size([23900, 440, 4]) torch.float32\n",
      "torch.Size([23900]) torch.int64\n",
      "tensor(14.8142) tensor(509.2920)\n"
     ]
    }
   ],
   "source": [
    "print(train_eegs.shape, train_eegs.dtype)\n",
    "print(train_labels.shape, train_labels.dtype)\n",
    "\n",
    "std, mean = torch.std_mean(train_eegs, dim=(0, 1, 2))\n",
    "print(std, mean)"
   ]
  },
  {
   "cell_type": "code",
   "execution_count": 73,
   "metadata": {},
   "outputs": [],
   "source": [
    "from torch.utils.data import Dataset\n",
    "from brainflow.data_filter import DetrendOperations, NoiseTypes, DataFilter, FilterTypes, WaveletTypes, WaveletDenoisingTypes, ThresholdTypes, NoiseEstimationLevelTypes, WaveletExtensionTypes\n",
    "from scipy import signal\n",
    "\n",
    "class EEGDataset(Dataset):\n",
    "    def __init__(self, eegs, labels):\n",
    "        self.eegs = eegs\n",
    "        self.labels = labels\n",
    "\n",
    "    def __getitem__(self, idx):\n",
    "        eeg = self.eegs[idx]\n",
    "        label = self.labels[idx]\n",
    "        \n",
    "        eeg = np.ascontiguousarray(eeg.numpy().transpose(), dtype=np.float64)\n",
    "\n",
    "        for channel in range(n_channels):    \n",
    "            # DataFilter.perform_highpass(eeg[channel], sampling_rate, 0.1, 5, FilterTypes.BUTTERWORTH, 0)\n",
    "            DataFilter.remove_environmental_noise(eeg[channel], sampling_rate, NoiseTypes.SIXTY)\n",
    "            DataFilter.detrend(eeg[channel], DetrendOperations.LINEAR)\n",
    "            DataFilter.perform_wavelet_denoising(eeg[channel], WaveletTypes.DB4, 3,\n",
    "                                                 WaveletDenoisingTypes.SURESHRINK, ThresholdTypes.HARD,\n",
    "                                                 WaveletExtensionTypes.SYMMETRIC, NoiseEstimationLevelTypes.FIRST_LEVEL)\n",
    "\n",
    "        \n",
    "        eeg = torch.FloatTensor(eeg.transpose())\n",
    "        # eeg = (eeg - mean) / std\n",
    "        eeg = F.normalize(eeg, dim=0)\n",
    "        eeg_min = torch.min(eeg)\n",
    "        eeg_max = torch.max(eeg)\n",
    "        eeg = (eeg - eeg_min)/(eeg_max - eeg_min)\n",
    "\n",
    "        return eeg, label\n",
    "\n",
    "    def __len__(self):\n",
    "        return len(self.eegs)\n",
    "\n",
    "train_data = EEGDataset(train_eegs, train_labels)\n",
    "test_data = EEGDataset(test_eegs, test_labels)"
   ]
  },
  {
   "cell_type": "code",
   "execution_count": 60,
   "metadata": {},
   "outputs": [
    {
     "name": "stdout",
     "output_type": "stream",
     "text": [
      "torch.Size([440, 4]) tensor(4)\n"
     ]
    }
   ],
   "source": [
    "eeg, label = train_data[0]\n",
    "print(eeg.shape, label)"
   ]
  },
  {
   "cell_type": "markdown",
   "metadata": {},
   "source": [
    "## Dataloaders"
   ]
  },
  {
   "cell_type": "code",
   "execution_count": 74,
   "metadata": {},
   "outputs": [
    {
     "name": "stdout",
     "output_type": "stream",
     "text": [
      "torch.Size([256, 440, 4])\n"
     ]
    },
    {
     "data": {
      "image/png": "[encoded data removed]",
      "text/plain": [
       "<Figure size 640x480 with 4 Axes>"
      ]
     },
     "metadata": {},
     "output_type": "display_data"
    }
   ],
   "source": [
    "from torch.utils.data import DataLoader\n",
    "\n",
    "test_loader = DataLoader(test_data, batch_size=batch_size, shuffle=True)\n",
    "train_loader = DataLoader(train_data, batch_size=batch_size, shuffle=True)\n",
    "\n",
    "import matplotlib.pyplot as plt\n",
    "\n",
    "%matplotlib inline\n",
    "for eegs, labels in train_loader:\n",
    "    print(eegs.shape)\n",
    "\n",
    "    plt.figure()\n",
    "    for i in range(n_channels):\n",
    "        plt.subplot(n_channels, 1, i + 1)\n",
    "        plt.plot(eegs[0][:, i])\n",
    "\n",
    "        if i == 0:\n",
    "            plt.title(labels[0].item())\n",
    "\n",
    "    break"
   ]
  },
  {
   "cell_type": "markdown",
   "metadata": {},
   "source": [
    "## Define Network"
   ]
  },
  {
   "cell_type": "code",
   "execution_count": 41,
   "metadata": {},
   "outputs": [],
   "source": [
    "# from models import EEGCNN, ClassificationHead\n",
    "\n",
    "# model = EEGCNN(n_channels, 16, 32)\n",
    "# classifier = ClassificationHead(800)\n",
    "\n",
    "# with torch.no_grad():\n",
    "#     i, (eeg, label) = next(enumerate(train_loader))\n",
    "#     embed = model(eeg)\n",
    "#     print(embed.shape)\n",
    "#     y = classifier(embed)\n",
    "#     print(y.shape)"
   ]
  },
  {
   "cell_type": "code",
   "execution_count": 84,
   "metadata": {},
   "outputs": [
    {
     "name": "stdout",
     "output_type": "stream",
     "text": [
      "torch.Size([256, 440, 4])\n",
      "torch.Size([256, 193600])\n",
      "torch.Size([256, 10])\n"
     ]
    }
   ],
   "source": [
    "from models import EEGFeatNet, ClassificationHead\n",
    "\n",
    "hidden_size = 220\n",
    "model = EEGFeatNet(n_channels, hidden_size).to(device)\n",
    "classifier = ClassificationHead(hidden_size * 2 * seq_len).to(device)\n",
    "with torch.no_grad():\n",
    "    i, (eeg, label) = next(enumerate(train_loader))\n",
    "    eeg = eeg.to(device)\n",
    "    print(eeg.shape)\n",
    "    embed = model(eeg)\n",
    "    print(embed.shape)\n",
    "    y = classifier(embed)\n",
    "    print(y.shape)"
   ]
  },
  {
   "cell_type": "code",
   "execution_count": 85,
   "metadata": {},
   "outputs": [
    {
     "data": {
      "text/plain": [
       "'All Parameters: 2728000'"
      ]
     },
     "execution_count": 85,
     "metadata": {},
     "output_type": "execute_result"
    }
   ],
   "source": [
    "f\"All Parameters: {sum(p.numel() for p in model.parameters())}\""
   ]
  },
  {
   "cell_type": "markdown",
   "metadata": {},
   "source": [
    "## Train Loop for Classifier"
   ]
  },
  {
   "cell_type": "code",
   "execution_count": 86,
   "metadata": {},
   "outputs": [],
   "source": [
    "def train(model, classifier, optimizer, scheduler, train_loader, saving_loss=False):\n",
    "    model = model.to(device).train()\n",
    "    classifier = classifier.to(device).train()\n",
    "\n",
    "    tq = tqdm(train_loader)\n",
    "    for batch_idx, (eegs, labels) in enumerate(tq):\n",
    "        eegs = eegs.to(device)\n",
    "        labels = labels.to(device)\n",
    "\n",
    "        optimizer.zero_grad()\n",
    "        embeddings = model(eegs)\n",
    "        y_pred = classifier(embeddings)\n",
    "\n",
    "        loss = F.cross_entropy(y_pred, labels)\n",
    "        loss.backward()\n",
    "        optimizer.step()\n",
    "        scheduler.step()\n",
    "        if saving_loss:\n",
    "            tq.set_description(str(loss.detach().item()))"
   ]
  },
  {
   "cell_type": "code",
   "execution_count": 87,
   "metadata": {},
   "outputs": [],
   "source": [
    "def eval(model, classifier, loader):\n",
    "    model.to(device).eval()\n",
    "    classifier.to(device).eval()\n",
    "\n",
    "    tq = tqdm(loader)\n",
    "    correct = 0\n",
    "    total = 0\n",
    "    for batch_idx, (eegs, labels) in enumerate(tq):\n",
    "        eegs = eegs.to(device)\n",
    "        labels = labels.to(device)\n",
    "\n",
    "        with torch.no_grad():\n",
    "            embeddings = model(eegs)\n",
    "            y_pred = classifier(embeddings)\n",
    "\n",
    "\n",
    "        _, predicted = torch.max(y_pred.data, 1)\n",
    "        \n",
    "        total += labels.size(0)\n",
    "        correct += (predicted == labels).sum().item()\n",
    "\n",
    "    return correct / total\n"
   ]
  },
  {
   "cell_type": "code",
   "execution_count": 88,
   "metadata": {},
   "outputs": [],
   "source": [
    "# model = EEGFeatNet(n_channels=n_channels, n_features=n_features, projection_dim=projection_dim, num_layers=n_layers).to(device)\n",
    "# classifier = ClassificationHead(hidden_size=projection_dim, num_classes=n_classes).to(device)\n",
    "\n",
    "parameters = list(model.parameters()) + list(classifier.parameters())\n",
    "optimizer = torch.optim.AdamW(parameters, lr=lr, weight_decay=weight_decay)"
   ]
  },
  {
   "cell_type": "code",
   "execution_count": 89,
   "metadata": {},
   "outputs": [
    {
     "name": "stderr",
     "output_type": "stream",
     "text": [
      "2.2973225116729736: 100%|██████████| 94/94 [06:36<00:00,  4.22s/it]\n"
     ]
    }
   ],
   "source": [
    "scheduler = torch.optim.lr_scheduler.OneCycleLR(optimizer, max_lr=max_lr, steps_per_epoch=len(train_loader), epochs=n_epochs)\n",
    "\n",
    "for epoch in range(n_epochs):\n",
    "    if epoch % show_acc_freq == 0:\n",
    "        saving_loss = True\n",
    "    else:\n",
    "        saving_loss = False\n",
    "    train(model, classifier, optimizer, scheduler, train_loader, saving_loss)"
   ]
  },
  {
   "cell_type": "code",
   "execution_count": 90,
   "metadata": {},
   "outputs": [
    {
     "name": "stderr",
     "output_type": "stream",
     "text": [
      "100%|██████████| 24/24 [00:04<00:00,  5.48it/s]\n"
     ]
    },
    {
     "data": {
      "text/plain": [
       "0.09732441471571907"
      ]
     },
     "execution_count": 90,
     "metadata": {},
     "output_type": "execute_result"
    }
   ],
   "source": [
    "eval(model, classifier, test_loader)"
   ]
  },
  {
   "cell_type": "markdown",
   "metadata": {},
   "source": [
    "## Train Loop for Embedding"
   ]
  },
  {
   "cell_type": "code",
   "execution_count": null,
   "metadata": {},
   "outputs": [],
   "source": [
    "from visualization import K_means\n",
    "\n",
    "def train(epoch, model, optimizer, loss_fn, miner, train_dataloader):\n",
    "    tq = tqdm(train_dataloader)\n",
    "    for batch_idx, (eeg, label) in enumerate(tq, start=1):\n",
    "        eeg    = eeg.to(device)\n",
    "        label = label.to(device)\n",
    "\n",
    "        optimizer.zero_grad()\n",
    "\n",
    "        x_proj = model(eeg)\n",
    "\n",
    "        hard_pairs = miner(x_proj, labels)\n",
    "        loss = loss_fn(x_proj, labels, hard_pairs)\n",
    "        \n",
    "        loss.backward()\n",
    "        optimizer.step()\n",
    "\n",
    "        running_loss = running_loss + [loss.detach().cpu().numpy()]\n",
    "                \n",
    "        tq.set_description('Train:[{}, {:0.3f}]'.format(epoch, loss.item()))\n",
    "\n",
    "    if (epoch % vis_freq) == 0:\n",
    "        for batch_idx, (eeg, labels) in enumerate(tqdm(train_dataloader)):\n",
    "            eeg, labels = eeg.to(device), labels.to(device)\n",
    "            with torch.no_grad():\n",
    "                x_proj = model(eeg)\n",
    "            \n",
    "            eeg_featvec_proj = np.concatenate((eeg_featvec_proj, x_proj.cpu().detach().numpy()), axis=0) if eeg_featvec_proj.size else x_proj.cpu().detach().numpy()\n",
    "            \n",
    "            labels_array     = np.concatenate((labels_array, labels.cpu().detach().numpy()), axis=0) if labels_array.size else labels.cpu().detach().numpy()\n",
    "\n",
    "        ### compute k-means score and Umap score on the text and image embeddings\n",
    "        k_means = K_means(n_clusters=n_classes)\n",
    "        clustering_acc_proj = k_means.transform(eeg_featvec_proj, labels_array)\n",
    "        print(\"[Epoch: {}, Train KMeans score Proj: {}]\".format(epoch, clustering_acc_proj))\n",
    "\n",
    "    return running_loss"
   ]
  },
  {
   "cell_type": "code",
   "execution_count": null,
   "metadata": {},
   "outputs": [],
   "source": [
    "from pytorch_metric_learning import miners, losses, distances\n",
    "\n",
    "model = EEGFeatNet(n_channels=n_channels, n_features=n_features, projection_dim=projection_dim).to(device)\n",
    "optimizer = torch.optim.AdamW(list(model.parameters()), lr=lr, weight_decay=weight_decay)\n",
    "\n",
    "# miner = miners.MultiSimilarityMiner()\n",
    "# loss_fn = losses.TripletMarginLoss()\n",
    "margin = 0.2\n",
    "distance = distances.LpDistance()\n",
    "loss_fn = losses.TripletMarginLoss(margin, distance=distance)\n",
    "miner = miners.TripletMarginMiner(margin, \"semihard\", distance=distance)"
   ]
  },
  {
   "cell_type": "code",
   "execution_count": null,
   "metadata": {},
   "outputs": [],
   "source": [
    "if device == \"cuda\":\n",
    "    torch.cuda.empty_cache()"
   ]
  },
  {
   "cell_type": "code",
   "execution_count": null,
   "metadata": {},
   "outputs": [
    {
     "name": "stderr",
     "output_type": "stream",
     "text": [
      "Train:[0, 0.153]: 100%|██████████| 41/41 [00:01<00:00, 38.07it/s]\n",
      "100%|██████████| 41/41 [00:00<00:00, 114.46it/s]\n"
     ]
    },
    {
     "name": "stdout",
     "output_type": "stream",
     "text": [
      "[Epoch: 0, Train KMeans score Proj: 0.112878497508624]\n"
     ]
    },
    {
     "name": "stderr",
     "output_type": "stream",
     "text": [
      "Train:[1, 0.151]: 100%|██████████| 41/41 [00:01<00:00, 40.00it/s]\n",
      "Train:[2, 0.150]: 100%|██████████| 41/41 [00:00<00:00, 44.15it/s]\n",
      "Train:[3, 0.150]: 100%|██████████| 41/41 [00:00<00:00, 44.12it/s]\n",
      "Train:[4, 0.150]: 100%|██████████| 41/41 [00:00<00:00, 43.95it/s]\n",
      "Train:[5, 0.170]: 100%|██████████| 41/41 [00:00<00:00, 45.32it/s]\n",
      "Train:[6, 0.174]: 100%|██████████| 41/41 [00:00<00:00, 45.56it/s]\n",
      "Train:[7, 0.153]: 100%|██████████| 41/41 [00:00<00:00, 44.75it/s]\n",
      "Train:[8, 0.155]: 100%|██████████| 41/41 [00:00<00:00, 44.80it/s]\n",
      "Train:[9, 0.154]: 100%|██████████| 41/41 [00:00<00:00, 44.23it/s]\n",
      "Train:[10, 0.161]: 100%|██████████| 41/41 [00:00<00:00, 44.87it/s]\n",
      "100%|██████████| 41/41 [00:00<00:00, 113.60it/s]\n"
     ]
    },
    {
     "name": "stdout",
     "output_type": "stream",
     "text": [
      "[Epoch: 10, Train KMeans score Proj: 0.11144116519739364]\n"
     ]
    },
    {
     "name": "stderr",
     "output_type": "stream",
     "text": [
      "Train:[11, 0.163]: 100%|██████████| 41/41 [00:00<00:00, 44.18it/s]\n",
      "Train:[12, 0.156]: 100%|██████████| 41/41 [00:00<00:00, 44.49it/s]\n",
      "Train:[13, 0.148]: 100%|██████████| 41/41 [00:00<00:00, 44.53it/s]\n",
      "Train:[14, 0.149]: 100%|██████████| 41/41 [00:00<00:00, 44.17it/s]\n",
      "Train:[15, 0.148]: 100%|██████████| 41/41 [00:00<00:00, 43.94it/s]\n",
      "Train:[16, 0.151]: 100%|██████████| 41/41 [00:00<00:00, 43.79it/s]\n",
      "Train:[17, 0.147]: 100%|██████████| 41/41 [00:00<00:00, 44.07it/s]\n",
      "Train:[18, 0.149]: 100%|██████████| 41/41 [00:00<00:00, 44.20it/s]\n",
      "Train:[19, 0.157]: 100%|██████████| 41/41 [00:00<00:00, 44.08it/s]\n",
      "Train:[20, 0.147]: 100%|██████████| 41/41 [00:00<00:00, 43.69it/s]\n",
      "100%|██████████| 41/41 [00:00<00:00, 117.05it/s]\n"
     ]
    },
    {
     "name": "stdout",
     "output_type": "stream",
     "text": [
      "[Epoch: 20, Train KMeans score Proj: 0.11057876581065543]\n"
     ]
    },
    {
     "name": "stderr",
     "output_type": "stream",
     "text": [
      "Train:[21, 0.146]: 100%|██████████| 41/41 [00:00<00:00, 42.92it/s]\n",
      "Train:[22, 0.148]: 100%|██████████| 41/41 [00:01<00:00, 40.17it/s]\n",
      "Train:[23, 0.159]: 100%|██████████| 41/41 [00:00<00:00, 44.28it/s]\n",
      "Train:[24, 0.159]: 100%|██████████| 41/41 [00:00<00:00, 44.82it/s]\n",
      "Train:[25, 0.151]: 100%|██████████| 41/41 [00:00<00:00, 44.05it/s]\n",
      "Train:[26, 0.152]: 100%|██████████| 41/41 [00:00<00:00, 45.07it/s]\n",
      "Train:[27, 0.172]: 100%|██████████| 41/41 [00:00<00:00, 44.64it/s]\n",
      "Train:[28, 0.149]: 100%|██████████| 41/41 [00:00<00:00, 44.57it/s]\n",
      "Train:[29, 0.145]: 100%|██████████| 41/41 [00:00<00:00, 43.14it/s]\n",
      "Train:[30, 0.163]: 100%|██████████| 41/41 [00:00<00:00, 44.95it/s]\n",
      "100%|██████████| 41/41 [00:00<00:00, 114.58it/s]\n"
     ]
    },
    {
     "name": "stdout",
     "output_type": "stream",
     "text": [
      "[Epoch: 30, Train KMeans score Proj: 0.11115369873514756]\n"
     ]
    },
    {
     "name": "stderr",
     "output_type": "stream",
     "text": [
      "Train:[31, 0.167]: 100%|██████████| 41/41 [00:00<00:00, 44.51it/s]\n",
      "Train:[32, 0.177]: 100%|██████████| 41/41 [00:00<00:00, 45.25it/s]\n",
      "Train:[33, 0.152]: 100%|██████████| 41/41 [00:00<00:00, 44.72it/s]\n",
      "Train:[34, 0.148]: 100%|██████████| 41/41 [00:00<00:00, 45.16it/s]\n",
      "Train:[35, 0.150]: 100%|██████████| 41/41 [00:00<00:00, 44.90it/s]\n",
      "Train:[36, 0.145]: 100%|██████████| 41/41 [00:00<00:00, 45.15it/s]\n",
      "Train:[37, 0.150]: 100%|██████████| 41/41 [00:00<00:00, 44.05it/s]\n",
      "Train:[38, 0.160]: 100%|██████████| 41/41 [00:00<00:00, 45.05it/s]\n",
      "Train:[39, 0.179]: 100%|██████████| 41/41 [00:00<00:00, 45.10it/s]\n",
      "Train:[40, 0.182]: 100%|██████████| 41/41 [00:00<00:00, 45.21it/s]\n",
      "100%|██████████| 41/41 [00:00<00:00, 119.88it/s]\n"
     ]
    },
    {
     "name": "stdout",
     "output_type": "stream",
     "text": [
      "[Epoch: 40, Train KMeans score Proj: 0.10415868148715983]\n"
     ]
    },
    {
     "name": "stderr",
     "output_type": "stream",
     "text": [
      "Train:[41, 0.085]: 100%|██████████| 41/41 [00:00<00:00, 44.90it/s]\n",
      "Train:[42, 0.028]: 100%|██████████| 41/41 [00:00<00:00, 48.27it/s]\n",
      "Train:[43, 0.001]: 100%|██████████| 41/41 [00:00<00:00, 44.81it/s]\n",
      "Train:[44, 0.001]: 100%|██████████| 41/41 [00:00<00:00, 48.83it/s]\n",
      "Train:[45, 0.001]: 100%|██████████| 41/41 [00:00<00:00, 50.24it/s]\n",
      "Train:[46, 0.001]: 100%|██████████| 41/41 [00:00<00:00, 49.01it/s]\n",
      "Train:[47, 0.001]: 100%|██████████| 41/41 [00:00<00:00, 50.39it/s]\n",
      "Train:[48, 0.001]: 100%|██████████| 41/41 [00:00<00:00, 51.06it/s]\n",
      "Train:[49, 0.001]: 100%|██████████| 41/41 [00:00<00:00, 50.27it/s]\n",
      "Train:[50, 0.001]: 100%|██████████| 41/41 [00:00<00:00, 50.30it/s]\n",
      "100%|██████████| 41/41 [00:00<00:00, 119.86it/s]\n",
      "c:\\Users\\ruoto\\miniconda3\\envs\\cmput328\\lib\\site-packages\\sklearn\\base.py:1152: ConvergenceWarning: Number of distinct clusters (8) found smaller than n_clusters (10). Possibly due to duplicate points in X.\n",
      "  return fit_method(estimator, *args, **kwargs)\n"
     ]
    },
    {
     "name": "stdout",
     "output_type": "stream",
     "text": [
      "[Epoch: 50, Train KMeans score Proj: 0.10367957071674971]\n"
     ]
    },
    {
     "name": "stderr",
     "output_type": "stream",
     "text": [
      "Train:[51, 0.001]: 100%|██████████| 41/41 [00:00<00:00, 49.38it/s]\n",
      "Train:[52, 0.001]: 100%|██████████| 41/41 [00:00<00:00, 49.72it/s]\n",
      "Train:[53, 0.001]: 100%|██████████| 41/41 [00:00<00:00, 49.01it/s]\n",
      "Train:[54, 0.001]: 100%|██████████| 41/41 [00:00<00:00, 50.24it/s]\n",
      "Train:[55, 0.001]: 100%|██████████| 41/41 [00:00<00:00, 49.26it/s]\n",
      "Train:[56, 0.001]: 100%|██████████| 41/41 [00:00<00:00, 49.10it/s]\n",
      "Train:[57, 0.001]: 100%|██████████| 41/41 [00:00<00:00, 49.58it/s]\n",
      "Train:[58, 0.001]: 100%|██████████| 41/41 [00:00<00:00, 48.96it/s]\n",
      "Train:[59, 0.001]: 100%|██████████| 41/41 [00:00<00:00, 49.37it/s]\n",
      "Train:[60, 0.001]: 100%|██████████| 41/41 [00:00<00:00, 51.01it/s]\n",
      "100%|██████████| 41/41 [00:00<00:00, 118.33it/s]\n",
      "c:\\Users\\ruoto\\miniconda3\\envs\\cmput328\\lib\\site-packages\\sklearn\\base.py:1152: ConvergenceWarning: Number of distinct clusters (8) found smaller than n_clusters (10). Possibly due to duplicate points in X.\n",
      "  return fit_method(estimator, *args, **kwargs)\n"
     ]
    },
    {
     "name": "stdout",
     "output_type": "stream",
     "text": [
      "[Epoch: 60, Train KMeans score Proj: 0.10367957071674971]\n"
     ]
    },
    {
     "name": "stderr",
     "output_type": "stream",
     "text": [
      "Train:[61, 0.001]: 100%|██████████| 41/41 [00:00<00:00, 48.87it/s]\n",
      "Train:[62, 0.001]: 100%|██████████| 41/41 [00:00<00:00, 49.69it/s]\n",
      "Train:[63, 0.001]: 100%|██████████| 41/41 [00:00<00:00, 48.94it/s]\n",
      "Train:[64, 0.001]: 100%|██████████| 41/41 [00:00<00:00, 45.46it/s]\n",
      "Train:[65, 0.001]: 100%|██████████| 41/41 [00:00<00:00, 49.50it/s]\n",
      "Train:[66, 0.001]: 100%|██████████| 41/41 [00:00<00:00, 48.88it/s]\n",
      "Train:[67, 0.001]: 100%|██████████| 41/41 [00:00<00:00, 48.99it/s]\n",
      "Train:[68, 0.001]: 100%|██████████| 41/41 [00:00<00:00, 49.42it/s]\n",
      "Train:[69, 0.001]: 100%|██████████| 41/41 [00:00<00:00, 49.13it/s]\n",
      "Train:[70, 0.001]: 100%|██████████| 41/41 [00:00<00:00, 48.46it/s]\n",
      "100%|██████████| 41/41 [00:00<00:00, 119.99it/s]\n",
      "c:\\Users\\ruoto\\miniconda3\\envs\\cmput328\\lib\\site-packages\\sklearn\\base.py:1152: ConvergenceWarning: Number of distinct clusters (8) found smaller than n_clusters (10). Possibly due to duplicate points in X.\n",
      "  return fit_method(estimator, *args, **kwargs)\n"
     ]
    },
    {
     "name": "stdout",
     "output_type": "stream",
     "text": [
      "[Epoch: 70, Train KMeans score Proj: 0.10367957071674971]\n"
     ]
    },
    {
     "name": "stderr",
     "output_type": "stream",
     "text": [
      "Train:[71, 0.001]: 100%|██████████| 41/41 [00:00<00:00, 49.44it/s]\n",
      "Train:[72, 0.001]: 100%|██████████| 41/41 [00:00<00:00, 50.43it/s]\n",
      "Train:[73, 0.001]: 100%|██████████| 41/41 [00:00<00:00, 50.35it/s]\n",
      "Train:[74, 0.001]: 100%|██████████| 41/41 [00:00<00:00, 48.74it/s]\n",
      "Train:[75, 0.001]: 100%|██████████| 41/41 [00:00<00:00, 48.79it/s]\n",
      "Train:[76, 0.001]: 100%|██████████| 41/41 [00:00<00:00, 49.45it/s]\n",
      "Train:[77, 0.001]: 100%|██████████| 41/41 [00:00<00:00, 49.92it/s]\n",
      "Train:[78, 0.001]: 100%|██████████| 41/41 [00:00<00:00, 49.66it/s]\n",
      "Train:[79, 0.001]: 100%|██████████| 41/41 [00:00<00:00, 48.54it/s]\n",
      "Train:[80, 0.001]: 100%|██████████| 41/41 [00:00<00:00, 49.49it/s]\n",
      "100%|██████████| 41/41 [00:00<00:00, 117.74it/s]\n",
      "c:\\Users\\ruoto\\miniconda3\\envs\\cmput328\\lib\\site-packages\\sklearn\\base.py:1152: ConvergenceWarning: Number of distinct clusters (8) found smaller than n_clusters (10). Possibly due to duplicate points in X.\n",
      "  return fit_method(estimator, *args, **kwargs)\n"
     ]
    },
    {
     "name": "stdout",
     "output_type": "stream",
     "text": [
      "[Epoch: 80, Train KMeans score Proj: 0.10367957071674971]\n"
     ]
    },
    {
     "name": "stderr",
     "output_type": "stream",
     "text": [
      "Train:[81, 0.001]: 100%|██████████| 41/41 [00:00<00:00, 49.24it/s]\n",
      "Train:[82, 0.001]: 100%|██████████| 41/41 [00:00<00:00, 50.05it/s]\n",
      "Train:[83, 0.001]: 100%|██████████| 41/41 [00:00<00:00, 50.37it/s]\n",
      "Train:[84, 0.001]: 100%|██████████| 41/41 [00:00<00:00, 48.98it/s]\n",
      "Train:[85, 0.001]: 100%|██████████| 41/41 [00:00<00:00, 45.11it/s]\n",
      "Train:[86, 0.001]: 100%|██████████| 41/41 [00:00<00:00, 49.24it/s]\n",
      "Train:[87, 0.001]: 100%|██████████| 41/41 [00:00<00:00, 49.56it/s]\n",
      "Train:[88, 0.001]: 100%|██████████| 41/41 [00:00<00:00, 49.17it/s]\n",
      "Train:[89, 0.001]: 100%|██████████| 41/41 [00:00<00:00, 48.90it/s]\n",
      "Train:[90, 0.001]: 100%|██████████| 41/41 [00:00<00:00, 50.20it/s]\n",
      "100%|██████████| 41/41 [00:00<00:00, 115.83it/s]\n",
      "c:\\Users\\ruoto\\miniconda3\\envs\\cmput328\\lib\\site-packages\\sklearn\\base.py:1152: ConvergenceWarning: Number of distinct clusters (8) found smaller than n_clusters (10). Possibly due to duplicate points in X.\n",
      "  return fit_method(estimator, *args, **kwargs)\n"
     ]
    },
    {
     "name": "stdout",
     "output_type": "stream",
     "text": [
      "[Epoch: 90, Train KMeans score Proj: 0.10367957071674971]\n"
     ]
    },
    {
     "name": "stderr",
     "output_type": "stream",
     "text": [
      "Train:[91, 0.003]: 100%|██████████| 41/41 [00:00<00:00, 49.02it/s]\n",
      "Train:[92, 0.001]: 100%|██████████| 41/41 [00:00<00:00, 49.40it/s]\n",
      "Train:[93, 0.001]: 100%|██████████| 41/41 [00:00<00:00, 49.58it/s]\n",
      "Train:[94, 0.003]: 100%|██████████| 41/41 [00:00<00:00, 49.69it/s]\n",
      "Train:[95, 0.001]: 100%|██████████| 41/41 [00:00<00:00, 49.16it/s]\n",
      "Train:[96, 0.002]: 100%|██████████| 41/41 [00:00<00:00, 49.03it/s]\n",
      "Train:[97, 0.002]: 100%|██████████| 41/41 [00:00<00:00, 48.10it/s]\n",
      "Train:[98, 0.002]: 100%|██████████| 41/41 [00:00<00:00, 50.19it/s]\n",
      "Train:[99, 0.001]: 100%|██████████| 41/41 [00:00<00:00, 49.92it/s]\n"
     ]
    }
   ],
   "source": [
    "for epoch in range(n_epochs):\n",
    "    running_train_loss = train(epoch, model, optimizer, loss_fn, miner, train_loader)"
   ]
  },
  {
   "cell_type": "code",
   "execution_count": null,
   "metadata": {},
   "outputs": [],
   "source": []
  }
 ],
 "metadata": {
  "kernelspec": {
   "display_name": "cmput328",
   "language": "python",
   "name": "python3"
  },
  "language_info": {
   "codemirror_mode": {
    "name": "ipython",
    "version": 3
   },
   "file_extension": ".py",
   "mimetype": "text/x-python",
   "name": "python",
   "nbconvert_exporter": "python",
   "pygments_lexer": "ipython3",
   "version": "3.10.13"
  }
 },
 "nbformat": 4,
 "nbformat_minor": 2
}
