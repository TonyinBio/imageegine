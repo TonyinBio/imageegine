{
 "cells": [
  {
   "cell_type": "code",
   "execution_count": 1,
   "metadata": {},
   "outputs": [],
   "source": [
    "import numpy as np\n",
    "import torch\n",
    "import torch.nn as nn\n",
    "import torch.nn.functional as F\n",
    "from tqdm import tqdm"
   ]
  },
  {
   "cell_type": "markdown",
   "metadata": {},
   "source": [
    "## Hyperparams"
   ]
  },
  {
   "cell_type": "code",
   "execution_count": 2,
   "metadata": {},
   "outputs": [
    {
     "name": "stdout",
     "output_type": "stream",
     "text": [
      "cuda\n"
     ]
    }
   ],
   "source": [
    "n_epochs = 100\n",
    "batch_size = 256\n",
    "\n",
    "n_features = 128\n",
    "projection_dim = 128\n",
    "\n",
    "weight_decay = 1e-4\n",
    "max_lr = 0.01\n",
    "lr = 0.001\n",
    "\n",
    "n_channels = 5\n",
    "seq_len = 256\n",
    "n_classes = 10\n",
    "\n",
    "show_acc_freq = 1\n",
    "\n",
    "device = \"cuda\" if torch.cuda.is_available() else \"cpu\"\n",
    "print(device)"
   ]
  },
  {
   "cell_type": "code",
   "execution_count": 3,
   "metadata": {},
   "outputs": [],
   "source": [
    "data_dir = \"./data/\"\n",
    "# O1 O2 T5 T6\n",
    "# bandpass 5-95 Hz"
   ]
  },
  {
   "cell_type": "markdown",
   "metadata": {},
   "source": [
    "## Load Data"
   ]
  },
  {
   "cell_type": "code",
   "execution_count": 20,
   "metadata": {},
   "outputs": [],
   "source": [
    "import datasets\n",
    "\n",
    "d_train = datasets.load_from_disk(data_dir + \"eeg_mnist_train\")\n",
    "d_test = datasets.load_from_disk(data_dir + \"eeg_mnist_test\")"
   ]
  },
  {
   "cell_type": "code",
   "execution_count": 25,
   "metadata": {},
   "outputs": [
    {
     "name": "stdout",
     "output_type": "stream",
     "text": [
      "256\n"
     ]
    }
   ],
   "source": [
    "print(len(d_train[\"pixel_values\"][0]))"
   ]
  },
  {
   "cell_type": "code",
   "execution_count": 22,
   "metadata": {},
   "outputs": [
    {
     "ename": "KeyboardInterrupt",
     "evalue": "",
     "output_type": "error",
     "traceback": [
      "\u001b[1;31m---------------------------------------------------------------------------\u001b[0m",
      "\u001b[1;31mKeyboardInterrupt\u001b[0m                         Traceback (most recent call last)",
      "\u001b[1;32mc:\\Users\\ruoto\\code\\nathacks2023\\eeg2image.ipynb Cell 7\u001b[0m line \u001b[0;36m1\n\u001b[1;32m----> <a href='vscode-notebook-cell:/c%3A/Users/ruoto/code/nathacks2023/eeg2image.ipynb#X40sZmlsZQ%3D%3D?line=0'>1</a>\u001b[0m \u001b[39mprint\u001b[39m(d_train[\u001b[39m\"\u001b[39;49m\u001b[39mpixel_values\u001b[39;49m\u001b[39m\"\u001b[39;49m])\n",
      "File \u001b[1;32mc:\\Users\\ruoto\\miniconda3\\envs\\cmput328\\lib\\site-packages\\datasets\\arrow_dataset.py:2795\u001b[0m, in \u001b[0;36mDataset.__getitem__\u001b[1;34m(self, key)\u001b[0m\n\u001b[0;32m   2793\u001b[0m \u001b[39mdef\u001b[39;00m \u001b[39m__getitem__\u001b[39m(\u001b[39mself\u001b[39m, key):  \u001b[39m# noqa: F811\u001b[39;00m\n\u001b[0;32m   2794\u001b[0m \u001b[39m    \u001b[39m\u001b[39m\"\"\"Can be used to index columns (by string names) or rows (by integer index or iterable of indices or bools).\"\"\"\u001b[39;00m\n\u001b[1;32m-> 2795\u001b[0m     \u001b[39mreturn\u001b[39;00m \u001b[39mself\u001b[39;49m\u001b[39m.\u001b[39;49m_getitem(key)\n",
      "File \u001b[1;32mc:\\Users\\ruoto\\miniconda3\\envs\\cmput328\\lib\\site-packages\\datasets\\arrow_dataset.py:2780\u001b[0m, in \u001b[0;36mDataset._getitem\u001b[1;34m(self, key, **kwargs)\u001b[0m\n\u001b[0;32m   2778\u001b[0m formatter \u001b[39m=\u001b[39m get_formatter(format_type, features\u001b[39m=\u001b[39m\u001b[39mself\u001b[39m\u001b[39m.\u001b[39m_info\u001b[39m.\u001b[39mfeatures, \u001b[39m*\u001b[39m\u001b[39m*\u001b[39mformat_kwargs)\n\u001b[0;32m   2779\u001b[0m pa_subtable \u001b[39m=\u001b[39m query_table(\u001b[39mself\u001b[39m\u001b[39m.\u001b[39m_data, key, indices\u001b[39m=\u001b[39m\u001b[39mself\u001b[39m\u001b[39m.\u001b[39m_indices \u001b[39mif\u001b[39;00m \u001b[39mself\u001b[39m\u001b[39m.\u001b[39m_indices \u001b[39mis\u001b[39;00m \u001b[39mnot\u001b[39;00m \u001b[39mNone\u001b[39;00m \u001b[39melse\u001b[39;00m \u001b[39mNone\u001b[39;00m)\n\u001b[1;32m-> 2780\u001b[0m formatted_output \u001b[39m=\u001b[39m format_table(\n\u001b[0;32m   2781\u001b[0m     pa_subtable, key, formatter\u001b[39m=\u001b[39;49mformatter, format_columns\u001b[39m=\u001b[39;49mformat_columns, output_all_columns\u001b[39m=\u001b[39;49moutput_all_columns\n\u001b[0;32m   2782\u001b[0m )\n\u001b[0;32m   2783\u001b[0m \u001b[39mreturn\u001b[39;00m formatted_output\n",
      "File \u001b[1;32mc:\\Users\\ruoto\\miniconda3\\envs\\cmput328\\lib\\site-packages\\datasets\\formatting\\formatting.py:629\u001b[0m, in \u001b[0;36mformat_table\u001b[1;34m(table, key, formatter, format_columns, output_all_columns)\u001b[0m\n\u001b[0;32m    627\u001b[0m python_formatter \u001b[39m=\u001b[39m PythonFormatter(features\u001b[39m=\u001b[39mformatter\u001b[39m.\u001b[39mfeatures)\n\u001b[0;32m    628\u001b[0m \u001b[39mif\u001b[39;00m format_columns \u001b[39mis\u001b[39;00m \u001b[39mNone\u001b[39;00m:\n\u001b[1;32m--> 629\u001b[0m     \u001b[39mreturn\u001b[39;00m formatter(pa_table, query_type\u001b[39m=\u001b[39;49mquery_type)\n\u001b[0;32m    630\u001b[0m \u001b[39melif\u001b[39;00m query_type \u001b[39m==\u001b[39m \u001b[39m\"\u001b[39m\u001b[39mcolumn\u001b[39m\u001b[39m\"\u001b[39m:\n\u001b[0;32m    631\u001b[0m     \u001b[39mif\u001b[39;00m key \u001b[39min\u001b[39;00m format_columns:\n",
      "File \u001b[1;32mc:\\Users\\ruoto\\miniconda3\\envs\\cmput328\\lib\\site-packages\\datasets\\formatting\\formatting.py:398\u001b[0m, in \u001b[0;36mFormatter.__call__\u001b[1;34m(self, pa_table, query_type)\u001b[0m\n\u001b[0;32m    396\u001b[0m     \u001b[39mreturn\u001b[39;00m \u001b[39mself\u001b[39m\u001b[39m.\u001b[39mformat_row(pa_table)\n\u001b[0;32m    397\u001b[0m \u001b[39melif\u001b[39;00m query_type \u001b[39m==\u001b[39m \u001b[39m\"\u001b[39m\u001b[39mcolumn\u001b[39m\u001b[39m\"\u001b[39m:\n\u001b[1;32m--> 398\u001b[0m     \u001b[39mreturn\u001b[39;00m \u001b[39mself\u001b[39;49m\u001b[39m.\u001b[39;49mformat_column(pa_table)\n\u001b[0;32m    399\u001b[0m \u001b[39melif\u001b[39;00m query_type \u001b[39m==\u001b[39m \u001b[39m\"\u001b[39m\u001b[39mbatch\u001b[39m\u001b[39m\"\u001b[39m:\n\u001b[0;32m    400\u001b[0m     \u001b[39mreturn\u001b[39;00m \u001b[39mself\u001b[39m\u001b[39m.\u001b[39mformat_batch(pa_table)\n",
      "File \u001b[1;32mc:\\Users\\ruoto\\miniconda3\\envs\\cmput328\\lib\\site-packages\\datasets\\formatting\\formatting.py:441\u001b[0m, in \u001b[0;36mPythonFormatter.format_column\u001b[1;34m(self, pa_table)\u001b[0m\n\u001b[0;32m    440\u001b[0m \u001b[39mdef\u001b[39;00m \u001b[39mformat_column\u001b[39m(\u001b[39mself\u001b[39m, pa_table: pa\u001b[39m.\u001b[39mTable) \u001b[39m-\u001b[39m\u001b[39m>\u001b[39m \u001b[39mlist\u001b[39m:\n\u001b[1;32m--> 441\u001b[0m     column \u001b[39m=\u001b[39m \u001b[39mself\u001b[39;49m\u001b[39m.\u001b[39;49mpython_arrow_extractor()\u001b[39m.\u001b[39;49mextract_column(pa_table)\n\u001b[0;32m    442\u001b[0m     column \u001b[39m=\u001b[39m \u001b[39mself\u001b[39m\u001b[39m.\u001b[39mpython_features_decoder\u001b[39m.\u001b[39mdecode_column(column, pa_table\u001b[39m.\u001b[39mcolumn_names[\u001b[39m0\u001b[39m])\n\u001b[0;32m    443\u001b[0m     \u001b[39mreturn\u001b[39;00m column\n",
      "\u001b[1;31mKeyboardInterrupt\u001b[0m: "
     ]
    }
   ],
   "source": [
    "for i in range(len(d_train[\"pixel_values\"])):\n",
    "    if len(item) > 0:\n",
    "        d_train[]"
   ]
  },
  {
   "cell_type": "code",
   "execution_count": 5,
   "metadata": {},
   "outputs": [],
   "source": [
    "train_eegs = torch.tensor(d_train[\"pixel_values\"])\n",
    "train_labels = torch.tensor(d_train[\"label\"])\n",
    "\n",
    "test_eegs = torch.tensor(d_test[\"pixel_values\"])\n",
    "test_labels = torch.tensor(d_test[\"label\"])"
   ]
  },
  {
   "cell_type": "code",
   "execution_count": 6,
   "metadata": {},
   "outputs": [
    {
     "name": "stdout",
     "output_type": "stream",
     "text": [
      "torch.Size([10436, 256, 5]) torch.float32\n",
      "torch.Size([10436]) torch.int64\n"
     ]
    }
   ],
   "source": [
    "print(train_eegs.shape, train_eegs.dtype)\n",
    "print(train_labels.shape, train_labels.dtype)"
   ]
  },
  {
   "cell_type": "code",
   "execution_count": 7,
   "metadata": {},
   "outputs": [],
   "source": [
    "from torch.utils.data import Dataset\n",
    "\n",
    "class EEGDataset(Dataset):\n",
    "    def __init__(self, eegs, labels, transform=None):\n",
    "        self.eegs = eegs\n",
    "        self.labels = labels\n",
    "        self.transform = transform\n",
    "\n",
    "    def __getitem__(self, idx):\n",
    "        eeg = self.eegs[idx]\n",
    "        label = self.labels[idx]\n",
    "\n",
    "        if self.transform:\n",
    "            eeg = self.transform(eeg)\n",
    "\n",
    "        return eeg, label\n",
    "\n",
    "    def __len__(self):\n",
    "        return len(self.eegs)\n",
    "\n",
    "train_data = EEGDataset(train_eegs, train_labels)\n",
    "test_data = EEGDataset(test_eegs, test_labels)"
   ]
  },
  {
   "cell_type": "code",
   "execution_count": 8,
   "metadata": {},
   "outputs": [
    {
     "name": "stdout",
     "output_type": "stream",
     "text": [
      "torch.Size([256, 5]) tensor(6)\n"
     ]
    }
   ],
   "source": [
    "eeg, label = train_data[0]\n",
    "print(eeg.shape, label)"
   ]
  },
  {
   "cell_type": "markdown",
   "metadata": {},
   "source": [
    "## Define Network"
   ]
  },
  {
   "cell_type": "code",
   "execution_count": 9,
   "metadata": {},
   "outputs": [
    {
     "name": "stdout",
     "output_type": "stream",
     "text": [
      "torch.Size([256, 128])\n"
     ]
    }
   ],
   "source": [
    "from models import EEGFeatNet, ClassificationHead\n",
    "\n",
    "eeg = torch.randn((batch_size, seq_len, n_channels)).to(device)\n",
    "model = EEGFeatNet(n_channels=n_channels, n_features=n_features, projection_dim=projection_dim).to(device)\n",
    "\n",
    "proj = model(eeg)\n",
    "print(proj.shape)"
   ]
  },
  {
   "cell_type": "code",
   "execution_count": 10,
   "metadata": {},
   "outputs": [
    {
     "data": {
      "text/plain": [
       "'All Parameters: 85504'"
      ]
     },
     "execution_count": 10,
     "metadata": {},
     "output_type": "execute_result"
    }
   ],
   "source": [
    "f\"All Parameters: {sum(p.numel() for p in model.parameters())}\""
   ]
  },
  {
   "cell_type": "markdown",
   "metadata": {},
   "source": [
    "## Dataloaders"
   ]
  },
  {
   "cell_type": "code",
   "execution_count": 11,
   "metadata": {},
   "outputs": [],
   "source": [
    "from torch.utils.data import DataLoader\n",
    "\n",
    "train_loader = DataLoader(train_data, batch_size=batch_size, shuffle=True)\n",
    "test_loader = DataLoader(test_data, batch_size=batch_size, shuffle=True)"
   ]
  },
  {
   "cell_type": "code",
   "execution_count": 12,
   "metadata": {},
   "outputs": [
    {
     "name": "stdout",
     "output_type": "stream",
     "text": [
      "torch.Size([256, 128])\n"
     ]
    }
   ],
   "source": [
    "for eeg, label in train_loader:\n",
    "    eeg = eeg.to(device)\n",
    "    proj = model(eeg)\n",
    "    print(proj.shape)\n",
    "    break"
   ]
  },
  {
   "cell_type": "markdown",
   "metadata": {},
   "source": [
    "## Train Loop for Classifier"
   ]
  },
  {
   "cell_type": "code",
   "execution_count": 13,
   "metadata": {},
   "outputs": [],
   "source": [
    "def train(model, classifier, optimizer, scheduler, train_loader, saving_loss=False):\n",
    "    model.train()\n",
    "    classifier.train()\n",
    "\n",
    "    tq = tqdm(train_loader)\n",
    "    total_loss = 0\n",
    "    for batch_idx, (eegs, labels) in enumerate(tq):\n",
    "        eegs = eegs.to(device)\n",
    "        labels = labels.to(device)\n",
    "\n",
    "        optimizer.zero_grad()\n",
    "        embeddings = model(eeg)\n",
    "        y_pred = classifier(embeddings)\n",
    "\n",
    "        loss = F.cross_entropy(y_pred, labels)\n",
    "        loss.backward()\n",
    "        optimizer.step()\n",
    "        scheduler.step()\n",
    "        if saving_loss:\n",
    "            total_loss += loss.detach().item()\n",
    "            \n",
    "    if saving_loss:\n",
    "        print(f\"CE Loss: {loss}\")"
   ]
  },
  {
   "cell_type": "code",
   "execution_count": 17,
   "metadata": {},
   "outputs": [],
   "source": [
    "model = EEGFeatNet(n_channels=n_channels, n_features=n_features, projection_dim=projection_dim).to(device)\n",
    "classifier = ClassificationHead(hidden_size=projection_dim, num_classes=n_classes).to(device)\n",
    "\n",
    "parameters = list(model.parameters()) + list(classifier.parameters())\n",
    "optimizer = torch.optim.AdamW(parameters, lr=lr, weight_decay=weight_decay)"
   ]
  },
  {
   "cell_type": "code",
   "execution_count": 18,
   "metadata": {},
   "outputs": [],
   "source": [
    "scheduler = torch.optim.lr_scheduler.OneCycleLR(optimizer, max_lr=max_lr, steps_per_epoch=len(train_loader), epochs=n_epochs)"
   ]
  },
  {
   "cell_type": "code",
   "execution_count": 19,
   "metadata": {},
   "outputs": [
    {
     "name": "stderr",
     "output_type": "stream",
     "text": [
      " 98%|█████████▊| 40/41 [00:01<00:00, 23.62it/s]\n"
     ]
    },
    {
     "ename": "ValueError",
     "evalue": "Expected input batch_size (256) to match target batch_size (196).",
     "output_type": "error",
     "traceback": [
      "\u001b[1;31m---------------------------------------------------------------------------\u001b[0m",
      "\u001b[1;31mValueError\u001b[0m                                Traceback (most recent call last)",
      "\u001b[1;32mc:\\Users\\ruoto\\code\\nathacks2023\\eeg2image.ipynb Cell 21\u001b[0m line \u001b[0;36m6\n\u001b[0;32m      <a href='vscode-notebook-cell:/c%3A/Users/ruoto/code/nathacks2023/eeg2image.ipynb#X34sZmlsZQ%3D%3D?line=3'>4</a>\u001b[0m \u001b[39melse\u001b[39;00m:\n\u001b[0;32m      <a href='vscode-notebook-cell:/c%3A/Users/ruoto/code/nathacks2023/eeg2image.ipynb#X34sZmlsZQ%3D%3D?line=4'>5</a>\u001b[0m     saving_loss \u001b[39m=\u001b[39m \u001b[39mFalse\u001b[39;00m\n\u001b[1;32m----> <a href='vscode-notebook-cell:/c%3A/Users/ruoto/code/nathacks2023/eeg2image.ipynb#X34sZmlsZQ%3D%3D?line=5'>6</a>\u001b[0m train(model, classifier, optimizer, scheduler, train_loader, saving_loss)\n",
      "\u001b[1;32mc:\\Users\\ruoto\\code\\nathacks2023\\eeg2image.ipynb Cell 21\u001b[0m line \u001b[0;36m1\n\u001b[0;32m     <a href='vscode-notebook-cell:/c%3A/Users/ruoto/code/nathacks2023/eeg2image.ipynb#X34sZmlsZQ%3D%3D?line=11'>12</a>\u001b[0m embeddings \u001b[39m=\u001b[39m model(eeg)\n\u001b[0;32m     <a href='vscode-notebook-cell:/c%3A/Users/ruoto/code/nathacks2023/eeg2image.ipynb#X34sZmlsZQ%3D%3D?line=12'>13</a>\u001b[0m y_pred \u001b[39m=\u001b[39m classifier(embeddings)\n\u001b[1;32m---> <a href='vscode-notebook-cell:/c%3A/Users/ruoto/code/nathacks2023/eeg2image.ipynb#X34sZmlsZQ%3D%3D?line=14'>15</a>\u001b[0m loss \u001b[39m=\u001b[39m F\u001b[39m.\u001b[39;49mcross_entropy(y_pred, labels)\n\u001b[0;32m     <a href='vscode-notebook-cell:/c%3A/Users/ruoto/code/nathacks2023/eeg2image.ipynb#X34sZmlsZQ%3D%3D?line=15'>16</a>\u001b[0m loss\u001b[39m.\u001b[39mbackward()\n\u001b[0;32m     <a href='vscode-notebook-cell:/c%3A/Users/ruoto/code/nathacks2023/eeg2image.ipynb#X34sZmlsZQ%3D%3D?line=16'>17</a>\u001b[0m optimizer\u001b[39m.\u001b[39mstep()\n",
      "File \u001b[1;32mc:\\Users\\ruoto\\miniconda3\\envs\\cmput328\\lib\\site-packages\\torch\\nn\\functional.py:3053\u001b[0m, in \u001b[0;36mcross_entropy\u001b[1;34m(input, target, weight, size_average, ignore_index, reduce, reduction, label_smoothing)\u001b[0m\n\u001b[0;32m   3051\u001b[0m \u001b[39mif\u001b[39;00m size_average \u001b[39mis\u001b[39;00m \u001b[39mnot\u001b[39;00m \u001b[39mNone\u001b[39;00m \u001b[39mor\u001b[39;00m reduce \u001b[39mis\u001b[39;00m \u001b[39mnot\u001b[39;00m \u001b[39mNone\u001b[39;00m:\n\u001b[0;32m   3052\u001b[0m     reduction \u001b[39m=\u001b[39m _Reduction\u001b[39m.\u001b[39mlegacy_get_string(size_average, reduce)\n\u001b[1;32m-> 3053\u001b[0m \u001b[39mreturn\u001b[39;00m torch\u001b[39m.\u001b[39;49m_C\u001b[39m.\u001b[39;49m_nn\u001b[39m.\u001b[39;49mcross_entropy_loss(\u001b[39minput\u001b[39;49m, target, weight, _Reduction\u001b[39m.\u001b[39;49mget_enum(reduction), ignore_index, label_smoothing)\n",
      "\u001b[1;31mValueError\u001b[0m: Expected input batch_size (256) to match target batch_size (196)."
     ]
    }
   ],
   "source": [
    "for epoch in range(n_epochs):\n",
    "    if epoch % show_acc_freq == 0:\n",
    "        saving_loss = True\n",
    "    else:\n",
    "        saving_loss = False\n",
    "    train(model, classifier, optimizer, scheduler, train_loader, saving_loss)"
   ]
  },
  {
   "cell_type": "markdown",
   "metadata": {},
   "source": [
    "## Train Loop for Embedding"
   ]
  },
  {
   "cell_type": "code",
   "execution_count": null,
   "metadata": {},
   "outputs": [],
   "source": [
    "from visualization import K_means\n",
    "\n",
    "def train(epoch, model, optimizer, loss_fn, miner, train_dataloader):\n",
    "    tq = tqdm(train_dataloader)\n",
    "    for batch_idx, (eeg, label) in enumerate(tq, start=1):\n",
    "        eeg    = eeg.to(device)\n",
    "        label = label.to(device)\n",
    "\n",
    "        optimizer.zero_grad()\n",
    "\n",
    "        x_proj = model(eeg)\n",
    "\n",
    "        hard_pairs = miner(x_proj, labels)\n",
    "        loss = loss_fn(x_proj, labels, hard_pairs)\n",
    "        \n",
    "        loss.backward()\n",
    "        optimizer.step()\n",
    "\n",
    "        running_loss = running_loss + [loss.detach().cpu().numpy()]\n",
    "                \n",
    "        tq.set_description('Train:[{}, {:0.3f}]'.format(epoch, loss.item()))\n",
    "\n",
    "    if (epoch % vis_freq) == 0:\n",
    "        for batch_idx, (eeg, labels) in enumerate(tqdm(train_dataloader)):\n",
    "            eeg, labels = eeg.to(device), labels.to(device)\n",
    "            with torch.no_grad():\n",
    "                x_proj = model(eeg)\n",
    "            \n",
    "            eeg_featvec_proj = np.concatenate((eeg_featvec_proj, x_proj.cpu().detach().numpy()), axis=0) if eeg_featvec_proj.size else x_proj.cpu().detach().numpy()\n",
    "            \n",
    "            labels_array     = np.concatenate((labels_array, labels.cpu().detach().numpy()), axis=0) if labels_array.size else labels.cpu().detach().numpy()\n",
    "\n",
    "        ### compute k-means score and Umap score on the text and image embeddings\n",
    "        k_means = K_means(n_clusters=n_classes)\n",
    "        clustering_acc_proj = k_means.transform(eeg_featvec_proj, labels_array)\n",
    "        print(\"[Epoch: {}, Train KMeans score Proj: {}]\".format(epoch, clustering_acc_proj))\n",
    "\n",
    "    return running_loss"
   ]
  },
  {
   "cell_type": "code",
   "execution_count": null,
   "metadata": {},
   "outputs": [],
   "source": [
    "from pytorch_metric_learning import miners, losses, distances\n",
    "\n",
    "model = EEGFeatNet(n_channels=n_channels, n_features=n_features, projection_dim=projection_dim).to(device)\n",
    "optimizer = torch.optim.AdamW(list(model.parameters()), lr=lr, weight_decay=weight_decay)\n",
    "\n",
    "# miner = miners.MultiSimilarityMiner()\n",
    "# loss_fn = losses.TripletMarginLoss()\n",
    "margin = 0.2\n",
    "distance = distances.LpDistance()\n",
    "loss_fn = losses.TripletMarginLoss(margin, distance=distance)\n",
    "miner = miners.TripletMarginMiner(margin, \"semihard\", distance=distance)"
   ]
  },
  {
   "cell_type": "code",
   "execution_count": null,
   "metadata": {},
   "outputs": [],
   "source": [
    "if device == \"cuda\":\n",
    "    torch.cuda.empty_cache()"
   ]
  },
  {
   "cell_type": "code",
   "execution_count": null,
   "metadata": {},
   "outputs": [
    {
     "name": "stderr",
     "output_type": "stream",
     "text": [
      "Train:[0, 0.153]: 100%|██████████| 41/41 [00:01<00:00, 38.07it/s]\n",
      "100%|██████████| 41/41 [00:00<00:00, 114.46it/s]\n"
     ]
    },
    {
     "name": "stdout",
     "output_type": "stream",
     "text": [
      "[Epoch: 0, Train KMeans score Proj: 0.112878497508624]\n"
     ]
    },
    {
     "name": "stderr",
     "output_type": "stream",
     "text": [
      "Train:[1, 0.151]: 100%|██████████| 41/41 [00:01<00:00, 40.00it/s]\n",
      "Train:[2, 0.150]: 100%|██████████| 41/41 [00:00<00:00, 44.15it/s]\n",
      "Train:[3, 0.150]: 100%|██████████| 41/41 [00:00<00:00, 44.12it/s]\n",
      "Train:[4, 0.150]: 100%|██████████| 41/41 [00:00<00:00, 43.95it/s]\n",
      "Train:[5, 0.170]: 100%|██████████| 41/41 [00:00<00:00, 45.32it/s]\n",
      "Train:[6, 0.174]: 100%|██████████| 41/41 [00:00<00:00, 45.56it/s]\n",
      "Train:[7, 0.153]: 100%|██████████| 41/41 [00:00<00:00, 44.75it/s]\n",
      "Train:[8, 0.155]: 100%|██████████| 41/41 [00:00<00:00, 44.80it/s]\n",
      "Train:[9, 0.154]: 100%|██████████| 41/41 [00:00<00:00, 44.23it/s]\n",
      "Train:[10, 0.161]: 100%|██████████| 41/41 [00:00<00:00, 44.87it/s]\n",
      "100%|██████████| 41/41 [00:00<00:00, 113.60it/s]\n"
     ]
    },
    {
     "name": "stdout",
     "output_type": "stream",
     "text": [
      "[Epoch: 10, Train KMeans score Proj: 0.11144116519739364]\n"
     ]
    },
    {
     "name": "stderr",
     "output_type": "stream",
     "text": [
      "Train:[11, 0.163]: 100%|██████████| 41/41 [00:00<00:00, 44.18it/s]\n",
      "Train:[12, 0.156]: 100%|██████████| 41/41 [00:00<00:00, 44.49it/s]\n",
      "Train:[13, 0.148]: 100%|██████████| 41/41 [00:00<00:00, 44.53it/s]\n",
      "Train:[14, 0.149]: 100%|██████████| 41/41 [00:00<00:00, 44.17it/s]\n",
      "Train:[15, 0.148]: 100%|██████████| 41/41 [00:00<00:00, 43.94it/s]\n",
      "Train:[16, 0.151]: 100%|██████████| 41/41 [00:00<00:00, 43.79it/s]\n",
      "Train:[17, 0.147]: 100%|██████████| 41/41 [00:00<00:00, 44.07it/s]\n",
      "Train:[18, 0.149]: 100%|██████████| 41/41 [00:00<00:00, 44.20it/s]\n",
      "Train:[19, 0.157]: 100%|██████████| 41/41 [00:00<00:00, 44.08it/s]\n",
      "Train:[20, 0.147]: 100%|██████████| 41/41 [00:00<00:00, 43.69it/s]\n",
      "100%|██████████| 41/41 [00:00<00:00, 117.05it/s]\n"
     ]
    },
    {
     "name": "stdout",
     "output_type": "stream",
     "text": [
      "[Epoch: 20, Train KMeans score Proj: 0.11057876581065543]\n"
     ]
    },
    {
     "name": "stderr",
     "output_type": "stream",
     "text": [
      "Train:[21, 0.146]: 100%|██████████| 41/41 [00:00<00:00, 42.92it/s]\n",
      "Train:[22, 0.148]: 100%|██████████| 41/41 [00:01<00:00, 40.17it/s]\n",
      "Train:[23, 0.159]: 100%|██████████| 41/41 [00:00<00:00, 44.28it/s]\n",
      "Train:[24, 0.159]: 100%|██████████| 41/41 [00:00<00:00, 44.82it/s]\n",
      "Train:[25, 0.151]: 100%|██████████| 41/41 [00:00<00:00, 44.05it/s]\n",
      "Train:[26, 0.152]: 100%|██████████| 41/41 [00:00<00:00, 45.07it/s]\n",
      "Train:[27, 0.172]: 100%|██████████| 41/41 [00:00<00:00, 44.64it/s]\n",
      "Train:[28, 0.149]: 100%|██████████| 41/41 [00:00<00:00, 44.57it/s]\n",
      "Train:[29, 0.145]: 100%|██████████| 41/41 [00:00<00:00, 43.14it/s]\n",
      "Train:[30, 0.163]: 100%|██████████| 41/41 [00:00<00:00, 44.95it/s]\n",
      "100%|██████████| 41/41 [00:00<00:00, 114.58it/s]\n"
     ]
    },
    {
     "name": "stdout",
     "output_type": "stream",
     "text": [
      "[Epoch: 30, Train KMeans score Proj: 0.11115369873514756]\n"
     ]
    },
    {
     "name": "stderr",
     "output_type": "stream",
     "text": [
      "Train:[31, 0.167]: 100%|██████████| 41/41 [00:00<00:00, 44.51it/s]\n",
      "Train:[32, 0.177]: 100%|██████████| 41/41 [00:00<00:00, 45.25it/s]\n",
      "Train:[33, 0.152]: 100%|██████████| 41/41 [00:00<00:00, 44.72it/s]\n",
      "Train:[34, 0.148]: 100%|██████████| 41/41 [00:00<00:00, 45.16it/s]\n",
      "Train:[35, 0.150]: 100%|██████████| 41/41 [00:00<00:00, 44.90it/s]\n",
      "Train:[36, 0.145]: 100%|██████████| 41/41 [00:00<00:00, 45.15it/s]\n",
      "Train:[37, 0.150]: 100%|██████████| 41/41 [00:00<00:00, 44.05it/s]\n",
      "Train:[38, 0.160]: 100%|██████████| 41/41 [00:00<00:00, 45.05it/s]\n",
      "Train:[39, 0.179]: 100%|██████████| 41/41 [00:00<00:00, 45.10it/s]\n",
      "Train:[40, 0.182]: 100%|██████████| 41/41 [00:00<00:00, 45.21it/s]\n",
      "100%|██████████| 41/41 [00:00<00:00, 119.88it/s]\n"
     ]
    },
    {
     "name": "stdout",
     "output_type": "stream",
     "text": [
      "[Epoch: 40, Train KMeans score Proj: 0.10415868148715983]\n"
     ]
    },
    {
     "name": "stderr",
     "output_type": "stream",
     "text": [
      "Train:[41, 0.085]: 100%|██████████| 41/41 [00:00<00:00, 44.90it/s]\n",
      "Train:[42, 0.028]: 100%|██████████| 41/41 [00:00<00:00, 48.27it/s]\n",
      "Train:[43, 0.001]: 100%|██████████| 41/41 [00:00<00:00, 44.81it/s]\n",
      "Train:[44, 0.001]: 100%|██████████| 41/41 [00:00<00:00, 48.83it/s]\n",
      "Train:[45, 0.001]: 100%|██████████| 41/41 [00:00<00:00, 50.24it/s]\n",
      "Train:[46, 0.001]: 100%|██████████| 41/41 [00:00<00:00, 49.01it/s]\n",
      "Train:[47, 0.001]: 100%|██████████| 41/41 [00:00<00:00, 50.39it/s]\n",
      "Train:[48, 0.001]: 100%|██████████| 41/41 [00:00<00:00, 51.06it/s]\n",
      "Train:[49, 0.001]: 100%|██████████| 41/41 [00:00<00:00, 50.27it/s]\n",
      "Train:[50, 0.001]: 100%|██████████| 41/41 [00:00<00:00, 50.30it/s]\n",
      "100%|██████████| 41/41 [00:00<00:00, 119.86it/s]\n",
      "c:\\Users\\ruoto\\miniconda3\\envs\\cmput328\\lib\\site-packages\\sklearn\\base.py:1152: ConvergenceWarning: Number of distinct clusters (8) found smaller than n_clusters (10). Possibly due to duplicate points in X.\n",
      "  return fit_method(estimator, *args, **kwargs)\n"
     ]
    },
    {
     "name": "stdout",
     "output_type": "stream",
     "text": [
      "[Epoch: 50, Train KMeans score Proj: 0.10367957071674971]\n"
     ]
    },
    {
     "name": "stderr",
     "output_type": "stream",
     "text": [
      "Train:[51, 0.001]: 100%|██████████| 41/41 [00:00<00:00, 49.38it/s]\n",
      "Train:[52, 0.001]: 100%|██████████| 41/41 [00:00<00:00, 49.72it/s]\n",
      "Train:[53, 0.001]: 100%|██████████| 41/41 [00:00<00:00, 49.01it/s]\n",
      "Train:[54, 0.001]: 100%|██████████| 41/41 [00:00<00:00, 50.24it/s]\n",
      "Train:[55, 0.001]: 100%|██████████| 41/41 [00:00<00:00, 49.26it/s]\n",
      "Train:[56, 0.001]: 100%|██████████| 41/41 [00:00<00:00, 49.10it/s]\n",
      "Train:[57, 0.001]: 100%|██████████| 41/41 [00:00<00:00, 49.58it/s]\n",
      "Train:[58, 0.001]: 100%|██████████| 41/41 [00:00<00:00, 48.96it/s]\n",
      "Train:[59, 0.001]: 100%|██████████| 41/41 [00:00<00:00, 49.37it/s]\n",
      "Train:[60, 0.001]: 100%|██████████| 41/41 [00:00<00:00, 51.01it/s]\n",
      "100%|██████████| 41/41 [00:00<00:00, 118.33it/s]\n",
      "c:\\Users\\ruoto\\miniconda3\\envs\\cmput328\\lib\\site-packages\\sklearn\\base.py:1152: ConvergenceWarning: Number of distinct clusters (8) found smaller than n_clusters (10). Possibly due to duplicate points in X.\n",
      "  return fit_method(estimator, *args, **kwargs)\n"
     ]
    },
    {
     "name": "stdout",
     "output_type": "stream",
     "text": [
      "[Epoch: 60, Train KMeans score Proj: 0.10367957071674971]\n"
     ]
    },
    {
     "name": "stderr",
     "output_type": "stream",
     "text": [
      "Train:[61, 0.001]: 100%|██████████| 41/41 [00:00<00:00, 48.87it/s]\n",
      "Train:[62, 0.001]: 100%|██████████| 41/41 [00:00<00:00, 49.69it/s]\n",
      "Train:[63, 0.001]: 100%|██████████| 41/41 [00:00<00:00, 48.94it/s]\n",
      "Train:[64, 0.001]: 100%|██████████| 41/41 [00:00<00:00, 45.46it/s]\n",
      "Train:[65, 0.001]: 100%|██████████| 41/41 [00:00<00:00, 49.50it/s]\n",
      "Train:[66, 0.001]: 100%|██████████| 41/41 [00:00<00:00, 48.88it/s]\n",
      "Train:[67, 0.001]: 100%|██████████| 41/41 [00:00<00:00, 48.99it/s]\n",
      "Train:[68, 0.001]: 100%|██████████| 41/41 [00:00<00:00, 49.42it/s]\n",
      "Train:[69, 0.001]: 100%|██████████| 41/41 [00:00<00:00, 49.13it/s]\n",
      "Train:[70, 0.001]: 100%|██████████| 41/41 [00:00<00:00, 48.46it/s]\n",
      "100%|██████████| 41/41 [00:00<00:00, 119.99it/s]\n",
      "c:\\Users\\ruoto\\miniconda3\\envs\\cmput328\\lib\\site-packages\\sklearn\\base.py:1152: ConvergenceWarning: Number of distinct clusters (8) found smaller than n_clusters (10). Possibly due to duplicate points in X.\n",
      "  return fit_method(estimator, *args, **kwargs)\n"
     ]
    },
    {
     "name": "stdout",
     "output_type": "stream",
     "text": [
      "[Epoch: 70, Train KMeans score Proj: 0.10367957071674971]\n"
     ]
    },
    {
     "name": "stderr",
     "output_type": "stream",
     "text": [
      "Train:[71, 0.001]: 100%|██████████| 41/41 [00:00<00:00, 49.44it/s]\n",
      "Train:[72, 0.001]: 100%|██████████| 41/41 [00:00<00:00, 50.43it/s]\n",
      "Train:[73, 0.001]: 100%|██████████| 41/41 [00:00<00:00, 50.35it/s]\n",
      "Train:[74, 0.001]: 100%|██████████| 41/41 [00:00<00:00, 48.74it/s]\n",
      "Train:[75, 0.001]: 100%|██████████| 41/41 [00:00<00:00, 48.79it/s]\n",
      "Train:[76, 0.001]: 100%|██████████| 41/41 [00:00<00:00, 49.45it/s]\n",
      "Train:[77, 0.001]: 100%|██████████| 41/41 [00:00<00:00, 49.92it/s]\n",
      "Train:[78, 0.001]: 100%|██████████| 41/41 [00:00<00:00, 49.66it/s]\n",
      "Train:[79, 0.001]: 100%|██████████| 41/41 [00:00<00:00, 48.54it/s]\n",
      "Train:[80, 0.001]: 100%|██████████| 41/41 [00:00<00:00, 49.49it/s]\n",
      "100%|██████████| 41/41 [00:00<00:00, 117.74it/s]\n",
      "c:\\Users\\ruoto\\miniconda3\\envs\\cmput328\\lib\\site-packages\\sklearn\\base.py:1152: ConvergenceWarning: Number of distinct clusters (8) found smaller than n_clusters (10). Possibly due to duplicate points in X.\n",
      "  return fit_method(estimator, *args, **kwargs)\n"
     ]
    },
    {
     "name": "stdout",
     "output_type": "stream",
     "text": [
      "[Epoch: 80, Train KMeans score Proj: 0.10367957071674971]\n"
     ]
    },
    {
     "name": "stderr",
     "output_type": "stream",
     "text": [
      "Train:[81, 0.001]: 100%|██████████| 41/41 [00:00<00:00, 49.24it/s]\n",
      "Train:[82, 0.001]: 100%|██████████| 41/41 [00:00<00:00, 50.05it/s]\n",
      "Train:[83, 0.001]: 100%|██████████| 41/41 [00:00<00:00, 50.37it/s]\n",
      "Train:[84, 0.001]: 100%|██████████| 41/41 [00:00<00:00, 48.98it/s]\n",
      "Train:[85, 0.001]: 100%|██████████| 41/41 [00:00<00:00, 45.11it/s]\n",
      "Train:[86, 0.001]: 100%|██████████| 41/41 [00:00<00:00, 49.24it/s]\n",
      "Train:[87, 0.001]: 100%|██████████| 41/41 [00:00<00:00, 49.56it/s]\n",
      "Train:[88, 0.001]: 100%|██████████| 41/41 [00:00<00:00, 49.17it/s]\n",
      "Train:[89, 0.001]: 100%|██████████| 41/41 [00:00<00:00, 48.90it/s]\n",
      "Train:[90, 0.001]: 100%|██████████| 41/41 [00:00<00:00, 50.20it/s]\n",
      "100%|██████████| 41/41 [00:00<00:00, 115.83it/s]\n",
      "c:\\Users\\ruoto\\miniconda3\\envs\\cmput328\\lib\\site-packages\\sklearn\\base.py:1152: ConvergenceWarning: Number of distinct clusters (8) found smaller than n_clusters (10). Possibly due to duplicate points in X.\n",
      "  return fit_method(estimator, *args, **kwargs)\n"
     ]
    },
    {
     "name": "stdout",
     "output_type": "stream",
     "text": [
      "[Epoch: 90, Train KMeans score Proj: 0.10367957071674971]\n"
     ]
    },
    {
     "name": "stderr",
     "output_type": "stream",
     "text": [
      "Train:[91, 0.003]: 100%|██████████| 41/41 [00:00<00:00, 49.02it/s]\n",
      "Train:[92, 0.001]: 100%|██████████| 41/41 [00:00<00:00, 49.40it/s]\n",
      "Train:[93, 0.001]: 100%|██████████| 41/41 [00:00<00:00, 49.58it/s]\n",
      "Train:[94, 0.003]: 100%|██████████| 41/41 [00:00<00:00, 49.69it/s]\n",
      "Train:[95, 0.001]: 100%|██████████| 41/41 [00:00<00:00, 49.16it/s]\n",
      "Train:[96, 0.002]: 100%|██████████| 41/41 [00:00<00:00, 49.03it/s]\n",
      "Train:[97, 0.002]: 100%|██████████| 41/41 [00:00<00:00, 48.10it/s]\n",
      "Train:[98, 0.002]: 100%|██████████| 41/41 [00:00<00:00, 50.19it/s]\n",
      "Train:[99, 0.001]: 100%|██████████| 41/41 [00:00<00:00, 49.92it/s]\n"
     ]
    }
   ],
   "source": [
    "for epoch in range(n_epochs):\n",
    "    running_train_loss = train(epoch, model, optimizer, loss_fn, miner, train_loader)"
   ]
  },
  {
   "cell_type": "code",
   "execution_count": null,
   "metadata": {},
   "outputs": [],
   "source": []
  }
 ],
 "metadata": {
  "kernelspec": {
   "display_name": "cmput328",
   "language": "python",
   "name": "python3"
  },
  "language_info": {
   "codemirror_mode": {
    "name": "ipython",
    "version": 3
   },
   "file_extension": ".py",
   "mimetype": "text/x-python",
   "name": "python",
   "nbconvert_exporter": "python",
   "pygments_lexer": "ipython3",
   "version": "3.10.13"
  }
 },
 "nbformat": 4,
 "nbformat_minor": 2
}
